{
 "cells": [
  {
   "cell_type": "code",
   "execution_count": 2,
   "id": "8e03f31d-1b78-4486-bc01-b8949cb0239e",
   "metadata": {},
   "outputs": [
    {
     "name": "stdout",
     "output_type": "stream",
     "text": [
      "  (0, 5)\t1\n",
      "  (0, 6)\t1\n",
      "  (0, 8)\t2\n",
      "[1 1 2]\n"
     ]
    }
   ],
   "source": [
    "import numpy as np\n",
    "from scipy.sparse import csr_matrix\n",
    "arr=np.array([0,0,0,0,0,1,1,0,2])\n",
    "print(csr_matrix(arr))"
   ]
  },
  {
   "cell_type": "code",
   "execution_count": 5,
   "id": "fbf37fd3-e041-4580-9fb1-480283506cd6",
   "metadata": {},
   "outputs": [
    {
     "name": "stdout",
     "output_type": "stream",
     "text": [
      "[1 1 2]\n"
     ]
    }
   ],
   "source": [
    "import numpy as np\n",
    "from scipy.sparse import csr_matrix\n",
    "arr = np.array([[0, 0, 0], [0, 0, 1], [1, 0, 2]])\n",
    "print(csr_matrix(arr).data)"
   ]
  },
  {
   "cell_type": "code",
   "execution_count": 6,
   "id": "5599f56a-3569-4b9e-a28f-b6e536fe46de",
   "metadata": {},
   "outputs": [
    {
     "name": "stdout",
     "output_type": "stream",
     "text": [
      "3\n"
     ]
    }
   ],
   "source": [
    "import numpy as np\n",
    "from scipy.sparse import csr_matrix\n",
    "arr = np.array([[0, 0, 0], [0, 0, 1], [1, 0, 2]])\n",
    "print(csr_matrix(arr).count_nonzero())"
   ]
  },
  {
   "cell_type": "code",
   "execution_count": 8,
   "id": "d0932835-2c49-465f-8f1c-921c600e0b8e",
   "metadata": {},
   "outputs": [
    {
     "name": "stdout",
     "output_type": "stream",
     "text": [
      "[1 1 2]\n"
     ]
    }
   ],
   "source": [
    "mat = csr_matrix(arr)\n",
    "mat.eliminate_zeros()\n",
    "print(mat.data)"
   ]
  },
  {
   "cell_type": "code",
   "execution_count": 15,
   "id": "3251f0c0-b92c-441e-ae5c-6873fd2790f3",
   "metadata": {},
   "outputs": [
    {
     "name": "stdout",
     "output_type": "stream",
     "text": [
      "  (1, 2)\t1\n",
      "  (2, 0)\t1\n",
      "  (2, 2)\t2\n"
     ]
    }
   ],
   "source": [
    "mat=csr_matrix(arr)\n",
    "mat.sum_duplicates()\n",
    "print(mat)"
   ]
  },
  {
   "cell_type": "code",
   "execution_count": 16,
   "id": "8818e58e-0fac-4081-8a1d-32c789e0c398",
   "metadata": {},
   "outputs": [
    {
     "name": "stdout",
     "output_type": "stream",
     "text": [
      "[1 1 2]\n"
     ]
    }
   ],
   "source": [
    "mat=csr_matrix(arr)\n",
    "mat.sum_duplicates()\n",
    "print(mat.data)"
   ]
  },
  {
   "cell_type": "code",
   "execution_count": 17,
   "id": "299ea37c-7f50-4502-b3b1-5cb3fa205f73",
   "metadata": {},
   "outputs": [
    {
     "name": "stdout",
     "output_type": "stream",
     "text": [
      "  (2, 0)\t1\n",
      "  (1, 2)\t1\n",
      "  (2, 2)\t2\n"
     ]
    }
   ],
   "source": [
    "import numpy as np\n",
    "from scipy.sparse import csr_matrix\n",
    "arr=np.array([[0, 0, 0], [0, 0, 1], [1, 0, 2]])\n",
    "newarr=csr_matrix(arr).tocsc()\n",
    "print(newarr)"
   ]
  },
  {
   "cell_type": "code",
   "execution_count": 18,
   "id": "e072b980-4247-430e-9ad5-81bed081e783",
   "metadata": {},
   "outputs": [
    {
     "name": "stdout",
     "output_type": "stream",
     "text": [
      "[1 1 2]\n"
     ]
    }
   ],
   "source": [
    "import numpy as np\n",
    "from scipy.sparse import csr_matrix\n",
    "arr=np.array([[0, 0, 0], [0, 0, 1], [1, 0, 2]])\n",
    "newarr=csr_matrix(arr).tocsc()\n",
    "print(newarr.data)"
   ]
  },
  {
   "cell_type": "code",
   "execution_count": 20,
   "id": "0ec0b71f-dac8-43bf-91ba-d2b205e54cf2",
   "metadata": {},
   "outputs": [
    {
     "name": "stdout",
     "output_type": "stream",
     "text": [
      "  (1, 2)\t1\n",
      "  (2, 0)\t1\n",
      "  (2, 2)\t2\n"
     ]
    }
   ],
   "source": [
    "import numpy as np\n",
    "from scipy.sparse import csc_matrix\n",
    "arr=np.array([[0, 0, 0], [0, 0, 1], [1, 0, 2]])\n",
    "newarr=csc_matrix(arr).tocsr()\n",
    "print(newarr)"
   ]
  },
  {
   "cell_type": "code",
   "execution_count": 21,
   "id": "7399889f-b6a2-4b33-a483-bc8b168f91a8",
   "metadata": {},
   "outputs": [
    {
     "name": "stdout",
     "output_type": "stream",
     "text": [
      "[1 1 2]\n"
     ]
    }
   ],
   "source": [
    "import numpy as np\n",
    "from scipy.sparse import csc_matrix\n",
    "arr=np.array([[0, 0, 0], [0, 0, 1], [1, 0, 2]])\n",
    "newarr=csc_matrix(arr).tocsr()\n",
    "print(newarr.data)"
   ]
  },
  {
   "cell_type": "code",
   "execution_count": null,
   "id": "8689bb59-52ac-475a-9ab4-99ddc09cd6e6",
   "metadata": {},
   "outputs": [],
   "source": []
  }
 ],
 "metadata": {
  "kernelspec": {
   "display_name": "Python 3 (ipykernel)",
   "language": "python",
   "name": "python3"
  },
  "language_info": {
   "codemirror_mode": {
    "name": "ipython",
    "version": 3
   },
   "file_extension": ".py",
   "mimetype": "text/x-python",
   "name": "python",
   "nbconvert_exporter": "python",
   "pygments_lexer": "ipython3",
   "version": "3.11.0"
  }
 },
 "nbformat": 4,
 "nbformat_minor": 5
}
