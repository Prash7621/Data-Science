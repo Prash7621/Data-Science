{
 "cells": [
  {
   "cell_type": "code",
   "execution_count": 1,
   "id": "53236f99-47e1-431a-ad3b-dc906a1db726",
   "metadata": {},
   "outputs": [
    {
     "data": {
      "text/plain": [
       "-1.7108820799094282"
      ]
     },
     "execution_count": 1,
     "metadata": {},
     "output_type": "execute_result"
    }
   ],
   "source": [
    "import scipy.stats as st\n",
    "import numpy as np\n",
    "p_x=150\n",
    "s_x=148\n",
    "n=25\n",
    "std=5\n",
    "t_val=st.t.ppf(0.05,24)\n",
    "t_val\n"
   ]
  },
  {
   "cell_type": "code",
   "execution_count": 2,
   "id": "315fbf35-4a08-4aa7-bb10-22c5c12f2ec4",
   "metadata": {},
   "outputs": [
    {
     "data": {
      "text/plain": [
       "-2.0"
      ]
     },
     "execution_count": 2,
     "metadata": {},
     "output_type": "execute_result"
    }
   ],
   "source": [
    "t_cal=(s_x - p_x)/(std/(np.sqrt(n)))\n",
    "t_cal\n",
    "\n",
    "# z_test=new - old\n",
    "# t_test=old - new\n"
   ]
  },
  {
   "cell_type": "code",
   "execution_count": 3,
   "id": "a7b10b25-cdfb-40d9-88f6-75a2d851256e",
   "metadata": {},
   "outputs": [
    {
     "name": "stdout",
     "output_type": "stream",
     "text": [
      "The H0 is correct.\n"
     ]
    }
   ],
   "source": [
    "if p_x>s_x:\n",
    "    print(\"The H0 is correct.\")\n",
    "else:\n",
    "    print(\"H alternative is correct.\")"
   ]
  },
  {
   "cell_type": "code",
   "execution_count": null,
   "id": "bdb6b3ca-925d-4f79-be9e-170605ae910d",
   "metadata": {},
   "outputs": [],
   "source": []
  }
 ],
 "metadata": {
  "kernelspec": {
   "display_name": "Python 3 (ipykernel)",
   "language": "python",
   "name": "python3"
  },
  "language_info": {
   "codemirror_mode": {
    "name": "ipython",
    "version": 3
   },
   "file_extension": ".py",
   "mimetype": "text/x-python",
   "name": "python",
   "nbconvert_exporter": "python",
   "pygments_lexer": "ipython3",
   "version": "3.11.0"
  }
 },
 "nbformat": 4,
 "nbformat_minor": 5
}
