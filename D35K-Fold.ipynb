{
 "cells": [
  {
   "cell_type": "code",
   "execution_count": 6,
   "id": "24129fae-2b7e-4b35-85b8-5f1ec5899458",
   "metadata": {},
   "outputs": [],
   "source": [
    "from sklearn import datasets\n",
    "from sklearn.tree import DecisionTreeClassifier\n",
    "from sklearn.model_selection import KFold,cross_val_score\n",
    "\n",
    "X,y=datasets.load_iris(return_X_y=True)"
   ]
  },
  {
   "cell_type": "code",
   "execution_count": 7,
   "id": "1710cd63-96b1-4216-bddd-1ae3b6de0f3c",
   "metadata": {},
   "outputs": [],
   "source": [
    "clf=DecisionTreeClassifier(random_state=42)"
   ]
  },
  {
   "cell_type": "code",
   "execution_count": 10,
   "id": "595aff81-03c8-4c46-8125-f9cae6803581",
   "metadata": {},
   "outputs": [],
   "source": [
    "k_folds=KFold(n_splits=5)"
   ]
  },
  {
   "cell_type": "code",
   "execution_count": 11,
   "id": "141ac2b8-9570-44a9-8f80-f78baa7e69fb",
   "metadata": {},
   "outputs": [],
   "source": [
    "scores=cross_val_score(clf,X,y,cv=k_folds)"
   ]
  },
  {
   "cell_type": "code",
   "execution_count": 13,
   "id": "0aecdc91-ea89-4424-ad4d-55fe160d613d",
   "metadata": {},
   "outputs": [
    {
     "name": "stdout",
     "output_type": "stream",
     "text": [
      "Cross Validation Scores :  [1.         1.         0.83333333 0.93333333 0.8       ]\n"
     ]
    }
   ],
   "source": [
    "print(\"Cross Validation Scores : \",scores)"
   ]
  },
  {
   "cell_type": "code",
   "execution_count": 14,
   "id": "d3eaba96-df7f-498c-bdef-26e669ef9faa",
   "metadata": {},
   "outputs": [
    {
     "name": "stdout",
     "output_type": "stream",
     "text": [
      "Average CV Score:  0.9133333333333333\n"
     ]
    }
   ],
   "source": [
    "print(\"Average CV Score: \",scores.mean())"
   ]
  },
  {
   "cell_type": "code",
   "execution_count": 15,
   "id": "58da8b8a-441f-4926-bc18-cca7a23643a8",
   "metadata": {},
   "outputs": [
    {
     "name": "stdout",
     "output_type": "stream",
     "text": [
      "Number of CV scores used in Average: 5\n"
     ]
    }
   ],
   "source": [
    "print(\"Number of CV scores used in Average:\",len(scores))"
   ]
  },
  {
   "cell_type": "code",
   "execution_count": null,
   "id": "f4b9200d-8e6c-4e9d-9090-be89a3bea2e4",
   "metadata": {},
   "outputs": [],
   "source": []
  }
 ],
 "metadata": {
  "kernelspec": {
   "display_name": "Python 3 (ipykernel)",
   "language": "python",
   "name": "python3"
  },
  "language_info": {
   "codemirror_mode": {
    "name": "ipython",
    "version": 3
   },
   "file_extension": ".py",
   "mimetype": "text/x-python",
   "name": "python",
   "nbconvert_exporter": "python",
   "pygments_lexer": "ipython3",
   "version": "3.13.2"
  }
 },
 "nbformat": 4,
 "nbformat_minor": 5
}
