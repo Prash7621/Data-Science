{
 "cells": [
  {
   "cell_type": "code",
   "execution_count": 1,
   "id": "d2910471-7a40-4597-888c-ff310cfa44b2",
   "metadata": {},
   "outputs": [],
   "source": [
    "import numpy as np\n",
    "import pandas as pd\n",
    "import matplotlib.pyplot as plt\n",
    "import seaborn as sns\n",
    "\n",
    "sec_a=np.array([75,65,73,68,72,76])\n",
    "sec_b=np.array([90,47,43,96,93,51])"
   ]
  },
  {
   "cell_type": "code",
   "execution_count": 3,
   "id": "cc738b30-6532-43ef-a69f-2fb213dea240",
   "metadata": {},
   "outputs": [
    {
     "data": {
      "text/plain": [
       "(np.float64(14.916666666666666), np.float64(537.3333333333334))"
      ]
     },
     "execution_count": 3,
     "metadata": {},
     "output_type": "execute_result"
    }
   ],
   "source": [
    "np.std(sec_a),np.std(sec_b)\n",
    "np.var(sec_a),np.var(sec_b)"
   ]
  },
  {
   "cell_type": "code",
   "execution_count": 5,
   "id": "efb99a5d-13b3-4d02-8b0f-384acbffa092",
   "metadata": {},
   "outputs": [
    {
     "name": "stdout",
     "output_type": "stream",
     "text": [
      "71.5\n",
      "70.0\n"
     ]
    }
   ],
   "source": [
    "mean_a=np.mean(sec_a)\n",
    "mean_b=np.mean(sec_b)\n",
    "print(mean_a)\n",
    "print(mean_b)"
   ]
  },
  {
   "cell_type": "code",
   "execution_count": 8,
   "id": "330ac019-bda1-4784-87dc-af67499a6d76",
   "metadata": {},
   "outputs": [
    {
     "name": "stdout",
     "output_type": "stream",
     "text": [
      "3.3333333333333335\n",
      "23.0\n"
     ]
    }
   ],
   "source": [
    "mad_a=np.sum(np.abs(sec_a-mean_a))/(len(sec_a))\n",
    "print(mad_a)\n",
    "mad_b=np.sum(np.abs(sec_b-mean_a))/(len(sec_b))\n",
    "print(mad_b)"
   ]
  },
  {
   "cell_type": "code",
   "execution_count": 9,
   "id": "867c7c08-3155-43e5-bb6a-1751b5016ca2",
   "metadata": {},
   "outputs": [],
   "source": [
    "no = np.array([1,2,3,4,5,6])"
   ]
  },
  {
   "cell_type": "code",
   "execution_count": 11,
   "id": "53050dff-1ecd-45e5-a5a8-7ac3f337cf88",
   "metadata": {},
   "outputs": [
    {
     "data": {
      "image/png": "[encoded data removed]",
      "text/plain": [
       "<Figure size 1000x300 with 1 Axes>"
      ]
     },
     "metadata": {},
     "output_type": "display_data"
    }
   ],
   "source": [
    "plt.figure(figsize=(10,3))\n",
    "plt.scatter(sec_a,no,label=\"Sec A\")\n",
    "plt.scatter(sec_b,no,color=\"red\",label=\"Sec B\")\n",
    "plt.plot([70,70,70,70,70,70],no,c=\"blue\",label=\"mean\")\n",
    "plt.legend()\n",
    "plt.show()"
   ]
  },
  {
   "cell_type": "code",
   "execution_count": null,
   "id": "a156195c-8884-4017-84e1-c0bed21718d9",
   "metadata": {},
   "outputs": [],
   "source": []
  }
 ],
 "metadata": {
  "kernelspec": {
   "display_name": "Python 3 (ipykernel)",
   "language": "python",
   "name": "python3"
  },
  "language_info": {
   "codemirror_mode": {
    "name": "ipython",
    "version": 3
   },
   "file_extension": ".py",
   "mimetype": "text/x-python",
   "name": "python",
   "nbconvert_exporter": "python",
   "pygments_lexer": "ipython3",
   "version": "3.13.2"
  }
 },
 "nbformat": 4,
 "nbformat_minor": 5
}
