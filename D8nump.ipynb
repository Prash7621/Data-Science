{
  "cells": [
    {
      "cell_type": "markdown",
      "metadata": {
        "id": "view-in-github",
        "colab_type": "text"
      },
      "source": [
        "<a href=\"https://colab.research.google.com/github/Prash7621/Data-Science/blob/main/D8nump.ipynb\" target=\"_parent\"><img src=\"https://colab.research.google.com/assets/colab-badge.svg\" alt=\"Open In Colab\"/></a>"
      ]
    },
    {
      "cell_type": "code",
      "execution_count": null,
      "id": "f75f31c3-3aa7-4852-9e46-9935c5505090",
      "metadata": {
        "id": "f75f31c3-3aa7-4852-9e46-9935c5505090",
        "outputId": "8199a29d-08b3-4266-fb31-1c0d21807434"
      },
      "outputs": [
        {
          "name": "stdout",
          "output_type": "stream",
          "text": [
            "<class 'numpy.ndarray'>\n"
          ]
        }
      ],
      "source": [
        "import numpy as np\n",
        "arr=np.array([\"Prashant\" , \"Danish\" , \"Dipak\"])\n",
        "print(type(arr))"
      ]
    },
    {
      "cell_type": "code",
      "execution_count": null,
      "id": "dd4e263e-4a50-493b-821a-68a5989baa8b",
      "metadata": {
        "id": "dd4e263e-4a50-493b-821a-68a5989baa8b",
        "outputId": "ae1f221f-de2f-48de-dd8d-2a23439786cf"
      },
      "outputs": [
        {
          "name": "stdout",
          "output_type": "stream",
          "text": [
            "2\n",
            "3\n",
            "7\n"
          ]
        }
      ],
      "source": [
        "import numpy as np\n",
        "a1=np.array([[1,2,3],[4,5,6]])\n",
        "a2=np.array([[[0,9,8],[4,5,6]],[[1,2,3],[2,3,4]]])\n",
        "a7=np.array([1,2,3]  ,ndmin=7)\n",
        "print(a1.ndim)\n",
        "print(a2.ndim)\n",
        "print(a7.ndim)"
      ]
    },
    {
      "cell_type": "code",
      "execution_count": null,
      "id": "c33c9cd3-1813-47f0-b77f-02ecebb256a4",
      "metadata": {
        "id": "c33c9cd3-1813-47f0-b77f-02ecebb256a4",
        "outputId": "bb6beccc-4b5e-4b92-c8d0-df2a8a0b9620"
      },
      "outputs": [
        {
          "name": "stdout",
          "output_type": "stream",
          "text": [
            "3\n",
            "3rd element of the second array of the first array is :  4\n"
          ]
        }
      ],
      "source": [
        "import numpy as np\n",
        "arr2=np.array([[[1,2,3],[2,3,4]],[[6,7,8],[5,3,6]]])\n",
        "print(arr2.ndim)\n",
        "print(\"3rd element of the second array of the first array is : \" , arr2[0,1,2])"
      ]
    },
    {
      "cell_type": "code",
      "execution_count": null,
      "id": "5ba8afdc-b943-4fcb-9681-89cc5d7da03b",
      "metadata": {
        "id": "5ba8afdc-b943-4fcb-9681-89cc5d7da03b",
        "outputId": "2480acd1-5703-4f0b-ad41-797a78a95ab2"
      },
      "outputs": [
        {
          "name": "stdout",
          "output_type": "stream",
          "text": [
            "[[2 3 4]\n",
            " [7 8 9]]\n"
          ]
        }
      ],
      "source": [
        "import numpy as np\n",
        "arr3=np.array([[1,2,3,4,5],[6,7,8,9,10]])\n",
        "print(arr3[0:2,1:4])"
      ]
    },
    {
      "cell_type": "code",
      "execution_count": null,
      "id": "e0b2fd00-4e4c-4841-a7f9-77603b74fab4",
      "metadata": {
        "id": "e0b2fd00-4e4c-4841-a7f9-77603b74fab4"
      },
      "outputs": [],
      "source": []
    }
  ],
  "metadata": {
    "kernelspec": {
      "display_name": "Python 3 (ipykernel)",
      "language": "python",
      "name": "python3"
    },
    "language_info": {
      "codemirror_mode": {
        "name": "ipython",
        "version": 3
      },
      "file_extension": ".py",
      "mimetype": "text/x-python",
      "name": "python",
      "nbconvert_exporter": "python",
      "pygments_lexer": "ipython3",
      "version": "3.12.7"
    },
    "colab": {
      "provenance": [],
      "include_colab_link": true
    }
  },
  "nbformat": 4,
  "nbformat_minor": 5
}