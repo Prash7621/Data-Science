{
 "cells": [
  {
   "cell_type": "code",
   "execution_count": 5,
   "id": "de1b41aa-347e-4f52-b7f4-b0b2cfd0ce0d",
   "metadata": {},
   "outputs": [
    {
     "name": "stdout",
     "output_type": "stream",
     "text": [
      "Speed of light: 1079252848.80 km/h\n"
     ]
    }
   ],
   "source": [
    "from scipy.constants import constants\n",
    "\n",
    "speed_of_light_m_per_s = speed_of_light\n",
    "\n",
    "speed_of_light_km_per_h = speed_of_light_m_per_s * 3600 / 1000\n",
    "\n",
    "print(f\"Speed of light: {speed_of_light_km_per_h:.2f} km/h\")"
   ]
  },
  {
   "cell_type": "code",
   "execution_count": 1,
   "id": "f3c6bdfb-ecb0-4c7c-a454-ab4fe4fe9769",
   "metadata": {},
   "outputs": [
    {
     "name": "stdout",
     "output_type": "stream",
     "text": [
      "1 gigameter (Gm) is equal to:\n",
      "- 1,000,000.0 kilometers (km)\n",
      "- 1,000,000,000.0 meters (m)\n",
      "- 1,000,000.0 millimeters (mm)\n"
     ]
    }
   ],
   "source": [
    "from scipy import constants\n",
    "\n",
    "gigameter_in_meters = 1 * constants.giga  # 1 Gm = 10^9 meters\n",
    "\n",
    "gigameter_in_kilometers = gigameter_in_meters / constants.kilo  # Convert to kilometers\n",
    "gigameter_in_millimeters = gigameter_in_meters * constants.milli  # Convert to millimeters\n",
    "\n",
    "print(f\"1 gigameter (Gm) is equal to:\")\n",
    "print(f\"- {gigameter_in_kilometers:,} kilometers (km)\")\n",
    "print(f\"- {gigameter_in_meters:,} meters (m)\")\n",
    "print(f\"- {gigameter_in_millimeters:,} millimeters (mm)\")\n"
   ]
  },
  {
   "cell_type": "code",
   "execution_count": null,
   "id": "bfccf0fd-9d72-431c-9f45-30c047b306a3",
   "metadata": {},
   "outputs": [],
   "source": []
  }
 ],
 "metadata": {
  "kernelspec": {
   "display_name": "Python 3 (ipykernel)",
   "language": "python",
   "name": "python3"
  },
  "language_info": {
   "codemirror_mode": {
    "name": "ipython",
    "version": 3
   },
   "file_extension": ".py",
   "mimetype": "text/x-python",
   "name": "python",
   "nbconvert_exporter": "python",
   "pygments_lexer": "ipython3",
   "version": "3.11.0"
  }
 },
 "nbformat": 4,
 "nbformat_minor": 5
}
