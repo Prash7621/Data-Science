{
  "nbformat": 4,
  "nbformat_minor": 0,
  "metadata": {
    "colab": {
      "provenance": [],
      "authorship_tag": "ABX9TyN/NCqmkvG9Yz/HTmwIPybi",
      "include_colab_link": true
    },
    "kernelspec": {
      "name": "python3",
      "display_name": "Python 3"
    },
    "language_info": {
      "name": "python"
    }
  },
  "cells": [
    {
      "cell_type": "markdown",
      "metadata": {
        "id": "view-in-github",
        "colab_type": "text"
      },
      "source": [
        "<a href=\"https://colab.research.google.com/github/Prash7621/Data-Science/blob/main/Untitled10.ipynb\" target=\"_parent\"><img src=\"https://colab.research.google.com/assets/colab-badge.svg\" alt=\"Open In Colab\"/></a>"
      ]
    },
    {
      "cell_type": "code",
      "execution_count": null,
      "metadata": {
        "id": "tsQMwxDSafxA"
      },
      "outputs": [],
      "source": [
        "import numpy as np\n",
        "\n",
        "\n",
        "def sigmoid_derivative(x):\n",
        "    return x * (1 - x)def sigmoid(x):\n",
        "    return 1 / (1 + np.exp(-x))\n",
        "\n",
        "\n",
        "# Generate training data (numbers from 1 to 100, label 1 for odd, 0 for even)\n",
        "X = np.array([[i] for i in range(1, 101)])\n",
        "y = np.array([[i % 2] for i in range(1, 101)])\n",
        "\n",
        "# Normalize input (optional, but helps training)\n",
        "X = X / 100.0\n",
        "\n",
        "# Initialize weights randomly\n",
        "np.random.seed(42)\n",
        "input_layer_size = 1\n",
        "hidden_layer_size = 4\n",
        "output_layer_size = 1\n",
        "\n",
        "weights_input_hidden = np.random.rand(input_layer_size, hidden_layer_size)\n",
        "weights_hidden_output = np.random.rand(hidden_layer_size, output_layer_size)\n",
        "\n",
        "bias_hidden = np.random.rand(hidden_layer_size)\n",
        "bias_output = np.random.rand(output_layer_size)\n",
        "\n",
        "# Training parameters\n",
        "learning_rate = 0.5\n",
        "epochs = 10000\n",
        "\n",
        "# Training loop\n",
        "for epoch in range(epochs):\n",
        "    # Forward propagation\n",
        "    hidden_layer_input = np.dot(X, weights_input_hidden) + bias_hidden\n",
        "    hidden_layer_output = sigmoid(hidden_layer_input)\n",
        "\n",
        "    output_layer_input = np.dot(hidden_layer_output, weights_hidden_output) + bias_output\n",
        "    predicted_output = sigmoid(output_layer_input)\n",
        "\n",
        "    # Backpropagation\n",
        "    error = y - predicted_output\n",
        "    output_gradient = error * sigmoid_derivative(predicted_output)\n",
        "\n",
        "    hidden_error = output_gradient.dot(weights_hidden_output.T)\n",
        "    hidden_gradient = hidden_error * sigmoid_derivative(hidden_layer_output)\n",
        "\n",
        "    # Update weights and biases\n",
        "    weights_hidden_output += hidden_layer_output.T.dot(output_gradient) * learning_rate\n",
        "    bias_output += np.sum(output_gradient, axis=0) * learning_rate\n",
        "\n",
        "    weights_input_hidden += X.T.dot(hidden_gradient) * learning_rate\n",
        "    bias_hidden += np.sum(hidden_gradient, axis=0) * learning_rate\n",
        "\n",
        "    # Print error every 1000 epochs\n",
        "    if epoch % 1000 == 0:\n",
        "        print(f\"Epoch {epoch}, Error: {np.mean(np.abs(error))}\")\n",
        "\n",
        "# Test the model\n",
        "for i in range(1, 11):\n",
        "    test_input = np.array([[i]]) / 100.0\n",
        "    hidden_layer_output = sigmoid(np.dot(test_input, weights_input_hidden) + bias_hidden)\n",
        "    output = sigmoid(np.dot(hidden_layer_output, weights_hidden_output) + bias_output)\n",
        "    prediction = 1 if output > 0.5 else 0\n",
        "    print(f\"Number: {i}, Predicted: {'Odd' if prediction == 1 else 'Even'}\")\n"
      ]
    },
    {
      "cell_type": "code",
      "source": [],
      "metadata": {
        "id": "UHbdWbxoagfO"
      },
      "execution_count": null,
      "outputs": []
    }
  ]
}