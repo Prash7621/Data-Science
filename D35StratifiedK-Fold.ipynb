{
 "cells": [
  {
   "cell_type": "code",
   "execution_count": 1,
   "id": "f2a56f5e-1250-4dc9-9deb-000b5076c79c",
   "metadata": {},
   "outputs": [],
   "source": [
    "from sklearn import datasets\n",
    "from sklearn.tree import DecisionTreeClassifier\n",
    "from sklearn.model_selection import StratifiedKFold,cross_val_score\n",
    "\n",
    "X,y=datasets.load_iris(return_X_y=True)"
   ]
  },
  {
   "cell_type": "code",
   "execution_count": 2,
   "id": "aba54c59-e863-484b-a002-31f6c1767060",
   "metadata": {},
   "outputs": [],
   "source": [
    "clf=DecisionTreeClassifier(random_state=42)"
   ]
  },
  {
   "cell_type": "code",
   "execution_count": 3,
   "id": "5a742485-4b01-4a99-b652-d7cfd0018b46",
   "metadata": {},
   "outputs": [],
   "source": [
    "sk_folds=StratifiedKFold(n_splits=5)"
   ]
  },
  {
   "cell_type": "code",
   "execution_count": 4,
   "id": "27cc1608-1cde-4e86-9136-5da9cf46bfb7",
   "metadata": {},
   "outputs": [],
   "source": [
    "scores=cross_val_score(clf,X,y,cv=sk_folds)"
   ]
  },
  {
   "cell_type": "code",
   "execution_count": 5,
   "id": "9b4f0fdd-237d-418b-8fa3-ddc912db73f3",
   "metadata": {},
   "outputs": [
    {
     "name": "stdout",
     "output_type": "stream",
     "text": [
      "Cross Validation:  [0.96666667 0.96666667 0.9        0.93333333 1.        ]\n"
     ]
    }
   ],
   "source": [
    "print(\"Cross Validation: \",scores)"
   ]
  },
  {
   "cell_type": "code",
   "execution_count": 6,
   "id": "99feb696-e4e1-44a2-a00d-dec91e49ab0a",
   "metadata": {},
   "outputs": [
    {
     "name": "stdout",
     "output_type": "stream",
     "text": [
      "Average CV Scores :  0.9533333333333334\n"
     ]
    }
   ],
   "source": [
    "print(\"Average CV Scores : \",scores.mean())"
   ]
  },
  {
   "cell_type": "code",
   "execution_count": 7,
   "id": "1e9e2198-6bb6-4454-bf88-9ba9810e33e8",
   "metadata": {},
   "outputs": [
    {
     "name": "stdout",
     "output_type": "stream",
     "text": [
      "Number of CV Scores used in Average :  5\n"
     ]
    }
   ],
   "source": [
    "print(\"Number of CV Scores used in Average : \",len(scores))"
   ]
  },
  {
   "cell_type": "code",
   "execution_count": null,
   "id": "6d1eef8d-7d34-4c3c-a645-9f8266479224",
   "metadata": {},
   "outputs": [],
   "source": []
  }
 ],
 "metadata": {
  "kernelspec": {
   "display_name": "Python 3 (ipykernel)",
   "language": "python",
   "name": "python3"
  },
  "language_info": {
   "codemirror_mode": {
    "name": "ipython",
    "version": 3
   },
   "file_extension": ".py",
   "mimetype": "text/x-python",
   "name": "python",
   "nbconvert_exporter": "python",
   "pygments_lexer": "ipython3",
   "version": "3.13.2"
  }
 },
 "nbformat": 4,
 "nbformat_minor": 5
}
