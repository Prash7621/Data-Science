{
 "cells": [
  {
   "cell_type": "code",
   "execution_count": 4,
   "id": "eec10d42-eaa3-42eb-b11d-172b01e006b2",
   "metadata": {},
   "outputs": [
    {
     "name": "stdout",
     "output_type": "stream",
     "text": [
      "5.1000000000000005\n"
     ]
    }
   ],
   "source": [
    "import scipy.stats as st\n",
    "import numpy as np\n",
    "obj=np.array([22,17,20,26,22,13])\n",
    "exp=np.array([20,20,20,20,20,20])\n",
    "\n",
    "chi_cal=np.sum(np.square(obj-exp)/exp)\n",
    "print(chi_cal)"
   ]
  },
  {
   "cell_type": "code",
   "execution_count": 12,
   "id": "732ab475-8629-4082-a2bd-a4da9b76fb6a",
   "metadata": {},
   "outputs": [
    {
     "name": "stdout",
     "output_type": "stream",
     "text": [
      "11.070497693516351\n"
     ]
    }
   ],
   "source": [
    "chi_tab=st.chi2.ppf(1-0.05,5)\n",
    "print(chi_tab)\n",
    "# table value"
   ]
  },
  {
   "cell_type": "code",
   "execution_count": 14,
   "id": "4e72a35d-c0b5-40fe-8d77-efcfeb364a9c",
   "metadata": {},
   "outputs": [
    {
     "name": "stdout",
     "output_type": "stream",
     "text": [
      "die is fair!!\n"
     ]
    }
   ],
   "source": [
    "if chi_cal<chi_tab:\n",
    "    print(\"die is fair!!\")\n",
    "else:\n",
    "    print(\"die is not fair!!\")"
   ]
  },
  {
   "cell_type": "code",
   "execution_count": null,
   "id": "40762dbc-a369-48a9-9c80-afec89cbee3d",
   "metadata": {},
   "outputs": [],
   "source": []
  },
  {
   "cell_type": "code",
   "execution_count": null,
   "id": "d512e776-05e4-4447-995a-deb44720acdb",
   "metadata": {},
   "outputs": [],
   "source": []
  },
  {
   "cell_type": "code",
   "execution_count": null,
   "id": "40cb8a04-758c-4628-bffe-f3d585fc6908",
   "metadata": {},
   "outputs": [],
   "source": []
  },
  {
   "cell_type": "code",
   "execution_count": 32,
   "id": "a3e89bc9-85b4-4c10-bdd7-99fc96da8c7e",
   "metadata": {},
   "outputs": [
    {
     "name": "stdout",
     "output_type": "stream",
     "text": [
      "120\n",
      "115\n"
     ]
    }
   ],
   "source": [
    "import scipy.stats as st\n",
    "import numpy as np\n",
    "row1=np.array([40,45,25,10])\n",
    "row2=np.array([35,30,20,30])\n",
    "sum_r1=np.sum(row1)\n",
    "sum_r2=np.sum(row2)\n",
    "print(sum_r1)\n",
    "print(sum_r2)"
   ]
  },
  {
   "cell_type": "code",
   "execution_count": 47,
   "id": "ce16b814-4980-4109-b545-199db5103038",
   "metadata": {},
   "outputs": [
    {
     "data": {
      "text/plain": [
       "array([120, 115])"
      ]
     },
     "execution_count": 47,
     "metadata": {},
     "output_type": "execute_result"
    }
   ],
   "source": [
    "sum_row=np.array([sum_r1 , sum_r2])\n",
    "sum_row"
   ]
  },
  {
   "cell_type": "code",
   "execution_count": 27,
   "id": "380118dc-6b73-4c54-b7d2-19ec76139256",
   "metadata": {},
   "outputs": [
    {
     "data": {
      "text/plain": [
       "array([75, 75, 45, 40])"
      ]
     },
     "execution_count": 27,
     "metadata": {},
     "output_type": "execute_result"
    }
   ],
   "source": [
    "sum_col=row1+row2\n",
    "sum_col"
   ]
  },
  {
   "cell_type": "code",
   "execution_count": 54,
   "id": "5992677b-5255-49da-930a-6cbcb788343c",
   "metadata": {},
   "outputs": [
    {
     "name": "stdout",
     "output_type": "stream",
     "text": [
      "[38.297872340425535, 38.297872340425535, 22.97872340425532, 20.425531914893618, 36.702127659574465, 36.702127659574465, 22.02127659574468, 19.574468085106382]\n"
     ]
    }
   ],
   "source": [
    "exp=[]\n",
    "for i in sum_row:\n",
    "    for j in sum_col:\n",
    "        value=(i*j)/235\n",
    "        exp.append(value)\n",
    "        \n",
    "print(exp)\n",
    "exp_value=np.array([exp])"
   ]
  },
  {
   "cell_type": "code",
   "execution_count": 55,
   "id": "a98bdb01-e57e-4cd8-9c0d-01f9a5a53242",
   "metadata": {},
   "outputs": [],
   "source": [
    "obj=np.array([40,45,25,10,35,30,20,30])"
   ]
  },
  {
   "cell_type": "code",
   "execution_count": 56,
   "id": "a7b5a6f4-7d6a-47fb-8e48-8e2781e7b76e",
   "metadata": {},
   "outputs": [
    {
     "data": {
      "text/plain": [
       "13.788747987117553"
      ]
     },
     "execution_count": 56,
     "metadata": {},
     "output_type": "execute_result"
    }
   ],
   "source": [
    "cal=np.sum(np.square(obj-exp)/exp)\n",
    "cal"
   ]
  },
  {
   "cell_type": "code",
   "execution_count": 59,
   "id": "c8f096f4-033c-48d5-8ad9-9bf8ebdf6105",
   "metadata": {},
   "outputs": [
    {
     "name": "stdout",
     "output_type": "stream",
     "text": [
      "3\n"
     ]
    }
   ],
   "source": [
    "row=2\n",
    "col=4\n",
    "df=(row-1)*(col-1)\n",
    "print(df)"
   ]
  },
  {
   "cell_type": "code",
   "execution_count": 61,
   "id": "60ed0ae7-5e74-4117-ae8f-98fc1963f4f7",
   "metadata": {},
   "outputs": [
    {
     "data": {
      "text/plain": [
       "7.814727903251179"
      ]
     },
     "execution_count": 61,
     "metadata": {},
     "output_type": "execute_result"
    }
   ],
   "source": [
    "val=st.chi2.ppf(1-0.05,df)\n",
    "val\n",
    "# table value"
   ]
  },
  {
   "cell_type": "code",
   "execution_count": 63,
   "id": "6dd028b0-9c17-4f33-8c31-957cfa8fff87",
   "metadata": {},
   "outputs": [
    {
     "name": "stdout",
     "output_type": "stream",
     "text": [
      "association\n"
     ]
    }
   ],
   "source": [
    "if cal>val:\n",
    "    print(\"association\") #H0\n",
    "else:\n",
    "    print(\"no association\") #H1"
   ]
  },
  {
   "cell_type": "code",
   "execution_count": null,
   "id": "cd909b63-f98c-4f59-a1d6-4b58d7164b70",
   "metadata": {},
   "outputs": [],
   "source": []
  }
 ],
 "metadata": {
  "kernelspec": {
   "display_name": "Python 3 (ipykernel)",
   "language": "python",
   "name": "python3"
  },
  "language_info": {
   "codemirror_mode": {
    "name": "ipython",
    "version": 3
   },
   "file_extension": ".py",
   "mimetype": "text/x-python",
   "name": "python",
   "nbconvert_exporter": "python",
   "pygments_lexer": "ipython3",
   "version": "3.11.0"
  }
 },
 "nbformat": 4,
 "nbformat_minor": 5
}
