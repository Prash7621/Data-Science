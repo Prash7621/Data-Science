{
 "cells": [
  {
   "cell_type": "code",
   "execution_count": 1,
   "id": "66013514-7fac-4894-a5fe-b887aa76372b",
   "metadata": {},
   "outputs": [
    {
     "name": "stdout",
     "output_type": "stream",
     "text": [
      "<class 'numpy.ndarray'>\n"
     ]
    }
   ],
   "source": [
    "import numpy as np\n",
    "arr=np.array([\"Prashant\" , \"Danish\" , \"Dipak\"])\n",
    "print(type(arr))"
   ]
  },
  {
   "cell_type": "code",
   "execution_count": 2,
   "id": "1bd87788-5f3e-41d8-a2da-6c698eb12738",
   "metadata": {},
   "outputs": [
    {
     "name": "stdout",
     "output_type": "stream",
     "text": [
      "2\n",
      "3\n",
      "7\n"
     ]
    }
   ],
   "source": [
    "import numpy as np\n",
    "a1=np.array([[1,2,3],[4,5,6]])\n",
    "a2=np.array([[[0,9,8],[4,5,6]],[[1,2,3],[2,3,4]]])\n",
    "a7=np.array([1,2,3]  ,ndmin=7)\n",
    "print(a1.ndim)\n",
    "print(a2.ndim)\n",
    "print(a7.ndim)"
   ]
  },
  {
   "cell_type": "code",
   "execution_count": 3,
   "id": "710331ae-b1e1-46f4-92f5-28e73c017634",
   "metadata": {},
   "outputs": [
    {
     "name": "stdout",
     "output_type": "stream",
     "text": [
      "3\n",
      "3rd element of the second array of the first array is :  4\n"
     ]
    }
   ],
   "source": [
    "import numpy as np\n",
    "arr2=np.array([[[1,2,3],[2,3,4]],[[6,7,8],[5,3,6]]])\n",
    "print(arr2.ndim)\n",
    "print(\"3rd element of the second array of the first array is : \" , arr2[0,1,2])"
   ]
  },
  {
   "cell_type": "code",
   "execution_count": 4,
   "id": "10a2dfd3-7a57-4e17-adfe-4e8842e062d9",
   "metadata": {},
   "outputs": [
    {
     "name": "stdout",
     "output_type": "stream",
     "text": [
      "[[2 3 4]\n",
      " [7 8 9]]\n"
     ]
    }
   ],
   "source": [
    "import numpy as np\n",
    "arr3=np.array([[1,2,3,4,5],[6,7,8,9,10]])\n",
    "print(arr3[0:2,1:4])"
   ]
  },
  {
   "cell_type": "code",
   "execution_count": null,
   "id": "19aafcc9-2fbf-45a4-bad9-e4a074599a02",
   "metadata": {},
   "outputs": [],
   "source": []
  }
 ],
 "metadata": {
  "kernelspec": {
   "display_name": "Python 3 (ipykernel)",
   "language": "python",
   "name": "python3"
  },
  "language_info": {
   "codemirror_mode": {
    "name": "ipython",
    "version": 3
   },
   "file_extension": ".py",
   "mimetype": "text/x-python",
   "name": "python",
   "nbconvert_exporter": "python",
   "pygments_lexer": "ipython3",
   "version": "3.11.0"
  }
 },
 "nbformat": 4,
 "nbformat_minor": 5
}
