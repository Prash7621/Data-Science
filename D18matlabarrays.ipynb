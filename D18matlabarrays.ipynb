{
 "cells": [
  {
   "cell_type": "code",
   "execution_count": 3,
   "id": "d1be8946-40ec-4aa7-a253-1726eb9f4ead",
   "metadata": {},
   "outputs": [],
   "source": [
    "from scipy import io\n",
    "import numpy as np\n",
    "arr=np.arange(10)\n",
    "io.savemat('arr.mat',{'vac': arr})\n",
    "# Note: The example above saves a file name \"arr.mat\" on your computer"
   ]
  },
  {
   "cell_type": "code",
   "execution_count": 5,
   "id": "7c580e88-3e2d-4b4d-8dd5-d2c02dc3ece7",
   "metadata": {},
   "outputs": [
    {
     "name": "stdout",
     "output_type": "stream",
     "text": [
      "{'__header__': b'MATLAB 5.0 MAT-file Platform: nt, Created on: Tue Jan 28 17:44:47 2025', '__version__': '1.0', '__globals__': [], 'vac': array([[0, 1, 2, 3, 4, 5, 6, 7, 8, 9]])}\n"
     ]
    }
   ],
   "source": [
    "from scipy import io\n",
    "import numpy as np\n",
    "arr=np.array([0, 1, 2, 3, 4, 5, 6, 7, 8, 9])\n",
    "# EXport\n",
    "io.savemat('arr.mat',{'vac':arr})\n",
    "# Import\n",
    "mydata=io.loadmat('arr.mat')\n",
    "print(mydata)"
   ]
  },
  {
   "cell_type": "code",
   "execution_count": null,
   "id": "5678bee5-586d-4ca9-81b7-140603f84de9",
   "metadata": {},
   "outputs": [],
   "source": []
  }
 ],
 "metadata": {
  "kernelspec": {
   "display_name": "Python 3 (ipykernel)",
   "language": "python",
   "name": "python3"
  },
  "language_info": {
   "codemirror_mode": {
    "name": "ipython",
    "version": 3
   },
   "file_extension": ".py",
   "mimetype": "text/x-python",
   "name": "python",
   "nbconvert_exporter": "python",
   "pygments_lexer": "ipython3",
   "version": "3.11.0"
  }
 },
 "nbformat": 4,
 "nbformat_minor": 5
}
