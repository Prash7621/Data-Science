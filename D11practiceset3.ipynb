{
 "cells": [
  {
   "cell_type": "code",
   "execution_count": 4,
   "id": "aa9adba7-b21a-4e30-9224-60b12c5f13ab",
   "metadata": {},
   "outputs": [
    {
     "name": "stdout",
     "output_type": "stream",
     "text": [
      "Original array :  [1 2 3 4 5]\n",
      "New array :  [2 1 3 4 5]\n"
     ]
    }
   ],
   "source": [
    "from numpy import random\n",
    "import numpy as np\n",
    "arr=np.array([1,2,3,4,5])\n",
    "newarr=random.permutation(arr)\n",
    "print(\"Original array : \" , arr)\n",
    "print(\"New array : \" , newarr)"
   ]
  },
  {
   "cell_type": "code",
   "execution_count": 6,
   "id": "82302ff7-ae67-4976-8ef6-2bb4f3434fff",
   "metadata": {},
   "outputs": [
    {
     "name": "stdout",
     "output_type": "stream",
     "text": [
      "[[1 2]\n",
      " [5 6]\n",
      " [3 4]]\n"
     ]
    }
   ],
   "source": [
    "from numpy import random\n",
    "import numpy as np\n",
    "arr=np.array([[1,2],[3,4],[5,6]])\n",
    "random.shuffle(arr)\n",
    "print(arr)"
   ]
  },
  {
   "cell_type": "code",
   "execution_count": 7,
   "id": "bec55231-e73b-43cd-b0c8-48a1cff6c926",
   "metadata": {},
   "outputs": [
    {
     "name": "stdout",
     "output_type": "stream",
     "text": [
      "[[7 7 5 3 7 5 7 7 5 7]\n",
      " [7 7 5 7 7 7 7 7 5 5]\n",
      " [7 7 7 7 7 3 7 5 5 7]\n",
      " [3 7 5 7 5 7 7 7 7 3]\n",
      " [7 7 5 7 7 7 5 7 7 7]\n",
      " [3 5 7 7 5 7 7 5 3 3]\n",
      " [5 7 7 7 5 7 7 7 5 3]\n",
      " [7 5 5 7 7 5 7 7 3 5]\n",
      " [7 7 7 7 7 5 7 7 5 5]\n",
      " [5 3 7 5 5 7 7 7 7 7]]\n"
     ]
    }
   ],
   "source": [
    "from numpy import random\n",
    "x=random.choice([3,5,7,9],p=[0.1,0.3,0.6,0.0],size=(10,10))\n",
    "print(x)"
   ]
  },
  {
   "cell_type": "code",
   "execution_count": 8,
   "id": "38a8607e-eaa5-4c5b-9817-7d57240335b5",
   "metadata": {},
   "outputs": [
    {
     "name": "stdout",
     "output_type": "stream",
     "text": [
      "[[[5 7 5 7 7]\n",
      "  [7 5 5 5 7]\n",
      "  [5 3 5 3 7]]\n",
      "\n",
      " [[7 3 5 7 5]\n",
      "  [7 7 7 7 5]\n",
      "  [5 7 7 7 7]]\n",
      "\n",
      " [[7 5 7 7 5]\n",
      "  [7 7 7 7 7]\n",
      "  [5 7 7 7 7]]]\n"
     ]
    }
   ],
   "source": [
    "from numpy import random\n",
    "x=random.choice([3,5,7,9],p=[0.1,0.3,0.6,0.0],size=(3,3,5))\n",
    "print(x)"
   ]
  },
  {
   "cell_type": "code",
   "execution_count": null,
   "id": "20af156e-384b-4a6d-8a42-0622c3373797",
   "metadata": {},
   "outputs": [],
   "source": []
  }
 ],
 "metadata": {
  "kernelspec": {
   "display_name": "Python 3 (ipykernel)",
   "language": "python",
   "name": "python3"
  },
  "language_info": {
   "codemirror_mode": {
    "name": "ipython",
    "version": 3
   },
   "file_extension": ".py",
   "mimetype": "text/x-python",
   "name": "python",
   "nbconvert_exporter": "python",
   "pygments_lexer": "ipython3",
   "version": "3.11.0"
  }
 },
 "nbformat": 4,
 "nbformat_minor": 5
}
