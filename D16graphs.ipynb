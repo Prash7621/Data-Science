{
 "cells": [
  {
   "cell_type": "code",
   "execution_count": 2,
   "id": "83bc6cd5-538a-407d-823f-c7db5dbfd2a7",
   "metadata": {},
   "outputs": [
    {
     "name": "stdout",
     "output_type": "stream",
     "text": [
      "(1, array([0, 0, 0]))\n"
     ]
    }
   ],
   "source": [
    "import numpy as np\n",
    "from scipy.sparse.csgraph import connected_components\n",
    "from scipy.sparse import csr_matrix\n",
    "arr=np.array([\n",
    "  [0, 1, 2],\n",
    "  [1, 0, 0],\n",
    "  [2, 0, 0]])\n",
    "newarr = csr_matrix(arr)\n",
    "print(connected_components(newarr))"
   ]
  },
  {
   "cell_type": "code",
   "execution_count": 2,
   "id": "b221b99e-7a8c-4e26-9b74-9cfbfacf96df",
   "metadata": {},
   "outputs": [
    {
     "name": "stdout",
     "output_type": "stream",
     "text": [
      "(array([0., 1., 2.]), array([-9999,     0,     0]))\n"
     ]
    }
   ],
   "source": [
    "import numpy as np\n",
    "from scipy.sparse.csgraph import dijkstra\n",
    "from scipy.sparse import csr_matrix\n",
    "arr=np.array([[0, 1, 2],\n",
    "  [1, 0, 0],\n",
    "  [2, 0, 0]])\n",
    "newarr = csr_matrix(arr)\n",
    "print(dijkstra(newarr ,return_predecessors=True,indices=0))"
   ]
  },
  {
   "cell_type": "code",
   "execution_count": 3,
   "id": "da74151f-25af-4f55-b603-73656533ffd7",
   "metadata": {},
   "outputs": [
    {
     "name": "stdout",
     "output_type": "stream",
     "text": [
      "(array([[0., 1., 2.],\n",
      "       [1., 0., 3.],\n",
      "       [2., 3., 0.]]), array([[-9999,     0,     0],\n",
      "       [    1, -9999,     0],\n",
      "       [    2,     0, -9999]]))\n"
     ]
    }
   ],
   "source": [
    "import numpy as np\n",
    "from scipy.sparse.csgraph import floyd_warshall\n",
    "from scipy.sparse import csr_matrix\n",
    "arr=np.array([\n",
    "    [0,1,2],\n",
    "    [1,0,0],\n",
    "    [2,0,0]])\n",
    "newarr=csr_matrix(arr)\n",
    "print(floyd_warshall(newarr , return_predecessors=True))"
   ]
  },
  {
   "cell_type": "code",
   "execution_count": 4,
   "id": "d4a34cda-01d1-408d-9daf-c3d43a931a9c",
   "metadata": {},
   "outputs": [
    {
     "name": "stdout",
     "output_type": "stream",
     "text": [
      "(array([0., 1., 2.]), array([-9999,     0,     0]))\n"
     ]
    }
   ],
   "source": [
    "import numpy as np\n",
    "from scipy.sparse.csgraph import bellman_ford\n",
    "from scipy.sparse import csr_matrix\n",
    "arr=np.array([[0,1,2],[1,0,0],[2,0,0]])\n",
    "newarr=csr_matrix(arr)\n",
    "print(bellman_ford(newarr,return_predecessors=True,indices=0))"
   ]
  },
  {
   "cell_type": "code",
   "execution_count": 7,
   "id": "4513a74b-fe62-4228-b754-0b31bf91de7c",
   "metadata": {},
   "outputs": [
    {
     "name": "stdout",
     "output_type": "stream",
     "text": [
      "(array([1, 0, 3, 2]), array([    1, -9999,     1,     0]))\n"
     ]
    }
   ],
   "source": [
    "import numpy as np\n",
    "from scipy.sparse.csgraph import depth_first_order\n",
    "from scipy.sparse import csr_matrix\n",
    "arr=np.array([[0, 1, 0, 1],\n",
    "  [1, 1, 1, 1],\n",
    "  [2, 1, 1, 0],\n",
    "  [0, 1, 0, 1]])\n",
    "newarr=csr_matrix(arr)\n",
    "print(depth_first_order(newarr , 1))"
   ]
  },
  {
   "cell_type": "code",
   "execution_count": 9,
   "id": "528bc6d7-b988-484d-a71d-9001af4677cc",
   "metadata": {},
   "outputs": [
    {
     "name": "stdout",
     "output_type": "stream",
     "text": [
      "(array([1, 0, 2, 3]), array([    1, -9999,     1,     1]))\n"
     ]
    }
   ],
   "source": [
    "import numpy as np\n",
    "from scipy.sparse.csgraph import breadth_first_order\n",
    "from scipy.sparse import csr_matrix\n",
    "arr=np.array([ [0, 1, 0, 1],\n",
    "  [1, 1, 1, 1],\n",
    "  [2, 1, 1, 0],\n",
    "  [0, 1, 0, 1]])\n",
    "newarr=csr_matrix(arr)\n",
    "print(breadth_first_order(newarr,1))"
   ]
  },
  {
   "cell_type": "code",
   "execution_count": null,
   "id": "29b1e428-2e73-446e-9330-5787df995e32",
   "metadata": {},
   "outputs": [],
   "source": []
  }
 ],
 "metadata": {
  "kernelspec": {
   "display_name": "Python 3 (ipykernel)",
   "language": "python",
   "name": "python3"
  },
  "language_info": {
   "codemirror_mode": {
    "name": "ipython",
    "version": 3
   },
   "file_extension": ".py",
   "mimetype": "text/x-python",
   "name": "python",
   "nbconvert_exporter": "python",
   "pygments_lexer": "ipython3",
   "version": "3.11.0"
  }
 },
 "nbformat": 4,
 "nbformat_minor": 5
}
