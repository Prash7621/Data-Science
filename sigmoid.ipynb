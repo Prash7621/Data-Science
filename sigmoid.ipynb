{
  "nbformat": 4,
  "nbformat_minor": 0,
  "metadata": {
    "colab": {
      "provenance": [],
      "authorship_tag": "ABX9TyPban6oY1C2Shw2UI66dH0c",
      "include_colab_link": true
    },
    "kernelspec": {
      "name": "python3",
      "display_name": "Python 3"
    },
    "language_info": {
      "name": "python"
    }
  },
  "cells": [
    {
      "cell_type": "markdown",
      "metadata": {
        "id": "view-in-github",
        "colab_type": "text"
      },
      "source": [
        "<a href=\"https://colab.research.google.com/github/Prash7621/Data-Science/blob/main/sigmoid.ipynb\" target=\"_parent\"><img src=\"https://colab.research.google.com/assets/colab-badge.svg\" alt=\"Open In Colab\"/></a>"
      ]
    },
    {
      "cell_type": "code",
      "execution_count": null,
      "metadata": {
        "id": "BucvLUaSMGQU",
        "outputId": "08a020a5-1e20-4035-cef3-d72396063c87",
        "colab": {
          "base_uri": "https://localhost:8080/"
        }
      },
      "outputs": [
        {
          "output_type": "stream",
          "name": "stdout",
          "text": [
            "Epoch 0, Error: 0.4997\n",
            "Epoch 1000, Error: 0.4997\n",
            "Epoch 2000, Error: 0.4982\n",
            "Epoch 3000, Error: 0.4830\n",
            "Epoch 4000, Error: 0.4163\n",
            "Epoch 5000, Error: 0.3254\n",
            "Epoch 6000, Error: 0.1678\n",
            "Epoch 7000, Error: 0.1096\n",
            "Epoch 8000, Error: 0.0846\n",
            "Epoch 9000, Error: 0.0705\n",
            "\n",
            "Final output after training:\n",
            "[[0.06]\n",
            " [0.94]\n",
            " [0.94]\n",
            " [0.06]]\n"
          ]
        }
      ],
      "source": [
        "import numpy as np\n",
        "\n",
        "# Sigmoid and its derivative\n",
        "def sigmoid(x):\n",
        "    return 1 / (1 + np.exp(-x))\n",
        "\n",
        "def sigmoid_derivative(x):\n",
        "    return x * (1 - x)\n",
        "\n",
        "# Input and output (XOR problem)\n",
        "X = np.array([[0,0], [0,1], [1,0], [1,1]])\n",
        "y = np.array([[0], [1], [1], [0]])\n",
        "\n",
        "# Initialize weights randomly\n",
        "np.random.seed(1)\n",
        "input_layer_neurons = X.shape[1]  # 2 inputs\n",
        "hidden_layer_neurons = 2\n",
        "output_neurons = 1\n",
        "\n",
        "# Weights\n",
        "wh = np.random.uniform(size=(input_layer_neurons, hidden_layer_neurons))\n",
        "bh = np.random.uniform(size=(1, hidden_layer_neurons))\n",
        "wo = np.random.uniform(size=(hidden_layer_neurons, output_neurons))\n",
        "bo = np.random.uniform(size=(1, output_neurons))\n",
        "\n",
        "# Training loop\n",
        "epochs = 10000\n",
        "lr = 0.1\n",
        "\n",
        "for epoch in range(epochs):\n",
        "    # Forward Propagation\n",
        "    hidden_input = np.dot(X, wh) + bh\n",
        "    hidden_output = sigmoid(hidden_input)\n",
        "\n",
        "    final_input = np.dot(hidden_output, wo) + bo\n",
        "    output = sigmoid(final_input)\n",
        "\n",
        "    # Error\n",
        "    error = y - output\n",
        "    if epoch % 1000 == 0:\n",
        "        print(f'Epoch {epoch}, Error: {np.mean(np.abs(error)):.4f}')\n",
        "\n",
        "    # Backpropagation\n",
        "    d_output = error * sigmoid_derivative(output)\n",
        "\n",
        "    error_hidden = d_output.dot(wo.T)\n",
        "    d_hidden = error_hidden * sigmoid_derivative(hidden_output)\n",
        "\n",
        "    # Updating Weights and Biases\n",
        "    wo += hidden_output.T.dot(d_output) * lr\n",
        "    bo += np.sum(d_output, axis=0, keepdims=True) * lr\n",
        "    wh += X.T.dot(d_hidden) * lr\n",
        "    bh += np.sum(d_hidden, axis=0, keepdims=True) * lr\n",
        "\n",
        "# Final output\n",
        "print(\"\\nFinal output after training:\")\n",
        "print(np.round(output, 2))\n"
      ]
    },
    {
      "cell_type": "code",
      "source": [],
      "metadata": {
        "id": "6OnmGVFrMG9K"
      },
      "execution_count": null,
      "outputs": []
    }
  ]
}