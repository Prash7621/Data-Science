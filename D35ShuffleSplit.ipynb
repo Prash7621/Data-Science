{
 "cells": [
  {
   "cell_type": "code",
   "execution_count": 3,
   "id": "c124ecbf-7be3-4a0e-8ca7-1d81330ad3ab",
   "metadata": {},
   "outputs": [],
   "source": [
    "from sklearn import datasets\n",
    "from sklearn.tree import DecisionTreeClassifier\n",
    "from sklearn.model_selection import ShuffleSplit,cross_val_score\n",
    "\n",
    "X,y=datasets.load_iris(return_X_y=True)"
   ]
  },
  {
   "cell_type": "code",
   "execution_count": 4,
   "id": "25c63fbf-da1e-41cb-8e04-0a49849cfb7f",
   "metadata": {},
   "outputs": [],
   "source": [
    "clf=DecisionTreeClassifier(random_state=42)"
   ]
  },
  {
   "cell_type": "code",
   "execution_count": 5,
   "id": "e9657146-8893-45f3-a03e-b11b49c400e9",
   "metadata": {},
   "outputs": [],
   "source": [
    "ss=ShuffleSplit(train_size=0.6,test_size=0.3,n_splits=5)"
   ]
  },
  {
   "cell_type": "code",
   "execution_count": 6,
   "id": "3685ea2a-ddcc-400c-8e97-ee6478d22dce",
   "metadata": {},
   "outputs": [],
   "source": [
    "scores=cross_val_score(clf,X,y,cv=ss)"
   ]
  },
  {
   "cell_type": "code",
   "execution_count": 7,
   "id": "ae9a3a47-1e67-42f1-8550-50c8d30496f6",
   "metadata": {},
   "outputs": [
    {
     "name": "stdout",
     "output_type": "stream",
     "text": [
      "Cross Validation Scores :  [0.93333333 0.91111111 0.88888889 0.91111111 0.91111111]\n"
     ]
    }
   ],
   "source": [
    "print(\"Cross Validation Scores : \",scores)"
   ]
  },
  {
   "cell_type": "code",
   "execution_count": 8,
   "id": "901ef4ad-f65e-46c9-bc1c-340b13c8b1a6",
   "metadata": {},
   "outputs": [
    {
     "name": "stdout",
     "output_type": "stream",
     "text": [
      "Average CV scores :  0.9111111111111111\n"
     ]
    }
   ],
   "source": [
    "print(\"Average CV scores : \",scores.mean())"
   ]
  },
  {
   "cell_type": "code",
   "execution_count": 9,
   "id": "164969e7-02f6-4aff-979c-1f116ffa3798",
   "metadata": {},
   "outputs": [
    {
     "name": "stdout",
     "output_type": "stream",
     "text": [
      "Number of CV scores used in Average :  5\n"
     ]
    }
   ],
   "source": [
    "print(\"Number of CV scores used in Average : \",len(scores))"
   ]
  },
  {
   "cell_type": "code",
   "execution_count": null,
   "id": "32493d1d-6aa7-4698-97cf-a9af5765cdae",
   "metadata": {},
   "outputs": [],
   "source": []
  }
 ],
 "metadata": {
  "kernelspec": {
   "display_name": "Python 3 (ipykernel)",
   "language": "python",
   "name": "python3"
  },
  "language_info": {
   "codemirror_mode": {
    "name": "ipython",
    "version": 3
   },
   "file_extension": ".py",
   "mimetype": "text/x-python",
   "name": "python",
   "nbconvert_exporter": "python",
   "pygments_lexer": "ipython3",
   "version": "3.13.2"
  }
 },
 "nbformat": 4,
 "nbformat_minor": 5
}
