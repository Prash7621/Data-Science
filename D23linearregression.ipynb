{
  "cells": [
    {
      "cell_type": "markdown",
      "metadata": {
        "id": "view-in-github",
        "colab_type": "text"
      },
      "source": [
        "<a href=\"https://colab.research.google.com/github/Prash7621/Data-Science/blob/main/D23linearregression.ipynb\" target=\"_parent\"><img src=\"https://colab.research.google.com/assets/colab-badge.svg\" alt=\"Open In Colab\"/></a>"
      ]
    },
    {
      "cell_type": "code",
      "execution_count": null,
      "id": "16094a42-b703-43c0-92ff-2bddafe53124",
      "metadata": {
        "id": "16094a42-b703-43c0-92ff-2bddafe53124",
        "outputId": "bed146e7-f367-45e8-febf-64a151a631e6"
      },
      "outputs": [
        {
          "name": "stdout",
          "output_type": "stream",
          "text": [
            "270.0\n",
            "3.0\n",
            "0.0\n",
            "1.0\n",
            "2.5000000000000343e-60\n",
            "0.0\n"
          ]
        }
      ],
      "source": [
        "from scipy import stats\n",
        "x=[50, 60, 70, 80, 100, 120, 150, 200]\n",
        "y=[150, 180, 210, 240, 300, 360, 450, 600]\n",
        "slop,intercept,r,p,std_err=stats.linregress(x,y)\n",
        "\n",
        "def myfunc(x):\n",
        "    return slop* x + intercept\n",
        "price=myfunc(90)\n",
        "print(price)\n",
        "print(slop)\n",
        "print(intercept)\n",
        "print(r)\n",
        "print(p)\n",
        "print(std_err)"
      ]
    },
    {
      "cell_type": "code",
      "execution_count": null,
      "id": "125c0682-952c-48c2-9389-3422221bcaf0",
      "metadata": {
        "id": "125c0682-952c-48c2-9389-3422221bcaf0",
        "outputId": "0e10fbc4-4bcd-43c4-d3c1-59653083ec56"
      },
      "outputs": [
        {
          "name": "stdout",
          "output_type": "stream",
          "text": [
            "82.5\n"
          ]
        }
      ],
      "source": [
        "from scipy import stats\n",
        "x=[1, 2, 3, 4, 5, 6, 7, 8, 9, 10]\n",
        "y=[50, 55, 60, 65, 70, 75, 80, 85, 90, 95]\n",
        "slop,intercept,r,p,std_err=stats.linregress(x,y)\n",
        "\n",
        "def myfunc(x):\n",
        "    return slop*x + intercept\n",
        "exam_scores=myfunc(7.5)\n",
        "print(exam_scores)"
      ]
    },
    {
      "cell_type": "code",
      "execution_count": null,
      "id": "e9043bf6-cf4d-4c8f-852e-cff103db9a8b",
      "metadata": {
        "id": "e9043bf6-cf4d-4c8f-852e-cff103db9a8b"
      },
      "outputs": [],
      "source": []
    }
  ],
  "metadata": {
    "kernelspec": {
      "display_name": "Python 3 (ipykernel)",
      "language": "python",
      "name": "python3"
    },
    "language_info": {
      "codemirror_mode": {
        "name": "ipython",
        "version": 3
      },
      "file_extension": ".py",
      "mimetype": "text/x-python",
      "name": "python",
      "nbconvert_exporter": "python",
      "pygments_lexer": "ipython3",
      "version": "3.11.0"
    },
    "colab": {
      "provenance": [],
      "include_colab_link": true
    }
  },
  "nbformat": 4,
  "nbformat_minor": 5
}