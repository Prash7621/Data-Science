{
 "cells": [
  {
   "cell_type": "code",
   "execution_count": 1,
   "id": "32411395-a774-47bd-a859-e043f797b508",
   "metadata": {},
   "outputs": [
    {
     "name": "stdout",
     "output_type": "stream",
     "text": [
      "50.0\n"
     ]
    }
   ],
   "source": [
    "import numpy as np\n",
    "arr=([75, 80, 85, 90, 95])\n",
    "x=np.var(arr)\n",
    "print(x)"
   ]
  },
  {
   "cell_type": "code",
   "execution_count": 2,
   "id": "4c69289b-257a-472d-bcc4-3fbaae8f35f3",
   "metadata": {},
   "outputs": [
    {
     "name": "stdout",
     "output_type": "stream",
     "text": [
      "7.0710678118654755\n"
     ]
    }
   ],
   "source": [
    "import numpy as np\n",
    "arr=([75, 80, 85, 90, 95])\n",
    "x=np.std(arr)\n",
    "print(x)"
   ]
  },
  {
   "cell_type": "code",
   "execution_count": 3,
   "id": "eaaf28ec-e49f-4ec8-b873-1df4d7d75e9a",
   "metadata": {},
   "outputs": [
    {
     "name": "stdout",
     "output_type": "stream",
     "text": [
      "24.428571428571427\n"
     ]
    }
   ],
   "source": [
    "import numpy as np\n",
    "arr=([22, 24, 23, 26, 25, 24, 27])\n",
    "x=np.mean(arr)\n",
    "print(x)"
   ]
  },
  {
   "cell_type": "code",
   "execution_count": 6,
   "id": "b4a1ffab-54f5-4744-9509-cfbce1679e52",
   "metadata": {},
   "outputs": [
    {
     "name": "stdout",
     "output_type": "stream",
     "text": [
      "2.5306122448979593\n"
     ]
    }
   ],
   "source": [
    "import numpy as np\n",
    "arr=([22, 24, 23, 26, 25, 24, 27])\n",
    "x=np.var(arr)\n",
    "print(x)"
   ]
  },
  {
   "cell_type": "code",
   "execution_count": 7,
   "id": "4f154437-2335-46d8-8da3-005c3d121041",
   "metadata": {},
   "outputs": [
    {
     "name": "stdout",
     "output_type": "stream",
     "text": [
      "1.5907898179514348\n"
     ]
    }
   ],
   "source": [
    "import numpy as np\n",
    "arr=([22, 24, 23, 26, 25, 24, 27])\n",
    "x=np.std(arr)\n",
    "print(x)"
   ]
  },
  {
   "cell_type": "code",
   "execution_count": null,
   "id": "f59d14e4-83e8-49cf-b250-b1e9bd771f57",
   "metadata": {},
   "outputs": [],
   "source": []
  }
 ],
 "metadata": {
  "kernelspec": {
   "display_name": "Python 3 (ipykernel)",
   "language": "python",
   "name": "python3"
  },
  "language_info": {
   "codemirror_mode": {
    "name": "ipython",
    "version": 3
   },
   "file_extension": ".py",
   "mimetype": "text/x-python",
   "name": "python",
   "nbconvert_exporter": "python",
   "pygments_lexer": "ipython3",
   "version": "3.11.0"
  }
 },
 "nbformat": 4,
 "nbformat_minor": 5
}
