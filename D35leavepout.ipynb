{
 "cells": [
  {
   "cell_type": "code",
   "execution_count": 3,
   "id": "8dce6d24-0b3a-4d04-8844-b743871ce871",
   "metadata": {},
   "outputs": [],
   "source": [
    "from sklearn import datasets\n",
    "from sklearn.tree import DecisionTreeClassifier\n",
    "from sklearn.model_selection import LeavePOut,cross_val_score\n",
    "\n",
    "X,y=datasets.load_iris(return_X_y=True)"
   ]
  },
  {
   "cell_type": "code",
   "execution_count": 4,
   "id": "c2a08745-e59e-4506-a27b-a2b4dd8f3b1f",
   "metadata": {},
   "outputs": [],
   "source": [
    "clf=DecisionTreeClassifier(random_state=42)"
   ]
  },
  {
   "cell_type": "code",
   "execution_count": 5,
   "id": "6db42f18-7a03-41aa-b2f8-af07a0125253",
   "metadata": {},
   "outputs": [],
   "source": [
    "lpo=LeavePOut(p=2)"
   ]
  },
  {
   "cell_type": "code",
   "execution_count": 7,
   "id": "b97abd57-d889-4450-b9ff-ed0c97b83f1d",
   "metadata": {},
   "outputs": [],
   "source": [
    "scores=cross_val_score(clf,X,y,cv=lpo)"
   ]
  },
  {
   "cell_type": "code",
   "execution_count": 12,
   "id": "a8b635fa-e632-415f-927a-92434a8f2a83",
   "metadata": {},
   "outputs": [
    {
     "name": "stdout",
     "output_type": "stream",
     "text": [
      "Cross Validation Scores :  [1. 1. 1. ... 1. 1. 1.]\n"
     ]
    }
   ],
   "source": [
    "print(\"Cross Validation Scores : \",scores)"
   ]
  },
  {
   "cell_type": "code",
   "execution_count": 9,
   "id": "d85ee932-34e5-4c95-80a8-ef3660f54b32",
   "metadata": {},
   "outputs": [
    {
     "name": "stdout",
     "output_type": "stream",
     "text": [
      "average of CV scores:  0.9382997762863534\n"
     ]
    }
   ],
   "source": [
    "print(\"average of CV scores: \",scores.mean())"
   ]
  },
  {
   "cell_type": "code",
   "execution_count": 14,
   "id": "204e0b86-e2b7-4b0d-b435-5491a515134d",
   "metadata": {},
   "outputs": [
    {
     "name": "stdout",
     "output_type": "stream",
     "text": [
      "Number of cv score used in average :  11175\n"
     ]
    }
   ],
   "source": [
    "print(\"Number of cv score used in average : \" ,len(scores))"
   ]
  },
  {
   "cell_type": "code",
   "execution_count": null,
   "id": "29336d9d-7d9d-43b0-ac94-cbf247b74c6e",
   "metadata": {},
   "outputs": [],
   "source": []
  }
 ],
 "metadata": {
  "kernelspec": {
   "display_name": "Python 3 (ipykernel)",
   "language": "python",
   "name": "python3"
  },
  "language_info": {
   "codemirror_mode": {
    "name": "ipython",
    "version": 3
   },
   "file_extension": ".py",
   "mimetype": "text/x-python",
   "name": "python",
   "nbconvert_exporter": "python",
   "pygments_lexer": "ipython3",
   "version": "3.13.2"
  }
 },
 "nbformat": 4,
 "nbformat_minor": 5
}
