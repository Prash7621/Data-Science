{
 "cells": [
  {
   "cell_type": "code",
   "execution_count": 1,
   "id": "0ae5c931-f188-41d2-8c4b-61b410c61a41",
   "metadata": {},
   "outputs": [
    {
     "data": {
      "text/html": [
       "<div>\n",
       "<style scoped>\n",
       "    .dataframe tbody tr th:only-of-type {\n",
       "        vertical-align: middle;\n",
       "    }\n",
       "\n",
       "    .dataframe tbody tr th {\n",
       "        vertical-align: top;\n",
       "    }\n",
       "\n",
       "    .dataframe thead th {\n",
       "        text-align: right;\n",
       "    }\n",
       "</style>\n",
       "<table border=\"1\" class=\"dataframe\">\n",
       "  <thead>\n",
       "    <tr style=\"text-align: right;\">\n",
       "      <th></th>\n",
       "      <th>Country</th>\n",
       "      <th>Region</th>\n",
       "      <th>Population</th>\n",
       "      <th>Incidence_Rate</th>\n",
       "      <th>Mortality_Rate</th>\n",
       "      <th>Gender</th>\n",
       "      <th>Age</th>\n",
       "      <th>Alcohol_Consumption</th>\n",
       "      <th>Smoking_Status</th>\n",
       "      <th>Hepatitis_B_Status</th>\n",
       "      <th>...</th>\n",
       "      <th>Herbal_Medicine_Use</th>\n",
       "      <th>Healthcare_Access</th>\n",
       "      <th>Screening_Availability</th>\n",
       "      <th>Treatment_Availability</th>\n",
       "      <th>Liver_Transplant_Access</th>\n",
       "      <th>Ethnicity</th>\n",
       "      <th>Preventive_Care</th>\n",
       "      <th>Survival_Rate</th>\n",
       "      <th>Cost_of_Treatment</th>\n",
       "      <th>Prediction</th>\n",
       "    </tr>\n",
       "  </thead>\n",
       "  <tbody>\n",
       "    <tr>\n",
       "      <th>0</th>\n",
       "      <td>Nigeria</td>\n",
       "      <td>Sub-Saharan Africa</td>\n",
       "      <td>340672131</td>\n",
       "      <td>15.381360</td>\n",
       "      <td>6.160480</td>\n",
       "      <td>Male</td>\n",
       "      <td>81</td>\n",
       "      <td>Low</td>\n",
       "      <td>Smoker</td>\n",
       "      <td>Negative</td>\n",
       "      <td>...</td>\n",
       "      <td>No</td>\n",
       "      <td>Poor</td>\n",
       "      <td>Available</td>\n",
       "      <td>Available</td>\n",
       "      <td>No</td>\n",
       "      <td>Hispanic</td>\n",
       "      <td>Good</td>\n",
       "      <td>17.724793</td>\n",
       "      <td>47486.167423</td>\n",
       "      <td>Yes</td>\n",
       "    </tr>\n",
       "    <tr>\n",
       "      <th>1</th>\n",
       "      <td>United Kingdom</td>\n",
       "      <td>Europe</td>\n",
       "      <td>1054632817</td>\n",
       "      <td>3.306101</td>\n",
       "      <td>14.392985</td>\n",
       "      <td>Male</td>\n",
       "      <td>87</td>\n",
       "      <td>Low</td>\n",
       "      <td>Smoker</td>\n",
       "      <td>Negative</td>\n",
       "      <td>...</td>\n",
       "      <td>Yes</td>\n",
       "      <td>Good</td>\n",
       "      <td>Available</td>\n",
       "      <td>Not Available</td>\n",
       "      <td>No</td>\n",
       "      <td>Mixed</td>\n",
       "      <td>Moderate</td>\n",
       "      <td>19.558853</td>\n",
       "      <td>13782.265151</td>\n",
       "      <td>No</td>\n",
       "    </tr>\n",
       "    <tr>\n",
       "      <th>2</th>\n",
       "      <td>India</td>\n",
       "      <td>South Asia</td>\n",
       "      <td>751241440</td>\n",
       "      <td>9.325053</td>\n",
       "      <td>12.777878</td>\n",
       "      <td>Male</td>\n",
       "      <td>34</td>\n",
       "      <td>Moderate</td>\n",
       "      <td>Smoker</td>\n",
       "      <td>Negative</td>\n",
       "      <td>...</td>\n",
       "      <td>No</td>\n",
       "      <td>Good</td>\n",
       "      <td>Not Available</td>\n",
       "      <td>Not Available</td>\n",
       "      <td>No</td>\n",
       "      <td>Mixed</td>\n",
       "      <td>Moderate</td>\n",
       "      <td>68.468892</td>\n",
       "      <td>25308.034132</td>\n",
       "      <td>No</td>\n",
       "    </tr>\n",
       "    <tr>\n",
       "      <th>3</th>\n",
       "      <td>Colombia</td>\n",
       "      <td>South America</td>\n",
       "      <td>1167333367</td>\n",
       "      <td>9.399658</td>\n",
       "      <td>8.634609</td>\n",
       "      <td>Male</td>\n",
       "      <td>63</td>\n",
       "      <td>Low</td>\n",
       "      <td>Non-Smoker</td>\n",
       "      <td>Positive</td>\n",
       "      <td>...</td>\n",
       "      <td>No</td>\n",
       "      <td>Good</td>\n",
       "      <td>Not Available</td>\n",
       "      <td>Not Available</td>\n",
       "      <td>Yes</td>\n",
       "      <td>Hispanic</td>\n",
       "      <td>Moderate</td>\n",
       "      <td>18.200287</td>\n",
       "      <td>38221.622202</td>\n",
       "      <td>No</td>\n",
       "    </tr>\n",
       "    <tr>\n",
       "      <th>4</th>\n",
       "      <td>Iran</td>\n",
       "      <td>Middle East</td>\n",
       "      <td>1082070787</td>\n",
       "      <td>9.665663</td>\n",
       "      <td>12.422518</td>\n",
       "      <td>Male</td>\n",
       "      <td>85</td>\n",
       "      <td>High</td>\n",
       "      <td>Non-Smoker</td>\n",
       "      <td>Positive</td>\n",
       "      <td>...</td>\n",
       "      <td>Yes</td>\n",
       "      <td>Moderate</td>\n",
       "      <td>Available</td>\n",
       "      <td>Available</td>\n",
       "      <td>Yes</td>\n",
       "      <td>Mixed</td>\n",
       "      <td>Moderate</td>\n",
       "      <td>45.019153</td>\n",
       "      <td>26765.301404</td>\n",
       "      <td>No</td>\n",
       "    </tr>\n",
       "  </tbody>\n",
       "</table>\n",
       "<p>5 rows × 25 columns</p>\n",
       "</div>"
      ],
      "text/plain": [
       "          Country              Region  Population  Incidence_Rate  \\\n",
       "0         Nigeria  Sub-Saharan Africa   340672131       15.381360   \n",
       "1  United Kingdom              Europe  1054632817        3.306101   \n",
       "2           India          South Asia   751241440        9.325053   \n",
       "3        Colombia       South America  1167333367        9.399658   \n",
       "4            Iran         Middle East  1082070787        9.665663   \n",
       "\n",
       "   Mortality_Rate Gender  Age Alcohol_Consumption Smoking_Status  \\\n",
       "0        6.160480   Male   81                 Low         Smoker   \n",
       "1       14.392985   Male   87                 Low         Smoker   \n",
       "2       12.777878   Male   34            Moderate         Smoker   \n",
       "3        8.634609   Male   63                 Low     Non-Smoker   \n",
       "4       12.422518   Male   85                High     Non-Smoker   \n",
       "\n",
       "  Hepatitis_B_Status  ... Herbal_Medicine_Use Healthcare_Access  \\\n",
       "0           Negative  ...                  No              Poor   \n",
       "1           Negative  ...                 Yes              Good   \n",
       "2           Negative  ...                  No              Good   \n",
       "3           Positive  ...                  No              Good   \n",
       "4           Positive  ...                 Yes          Moderate   \n",
       "\n",
       "  Screening_Availability Treatment_Availability Liver_Transplant_Access  \\\n",
       "0              Available              Available                      No   \n",
       "1              Available          Not Available                      No   \n",
       "2          Not Available          Not Available                      No   \n",
       "3          Not Available          Not Available                     Yes   \n",
       "4              Available              Available                     Yes   \n",
       "\n",
       "  Ethnicity Preventive_Care Survival_Rate Cost_of_Treatment Prediction  \n",
       "0  Hispanic            Good     17.724793      47486.167423        Yes  \n",
       "1     Mixed        Moderate     19.558853      13782.265151         No  \n",
       "2     Mixed        Moderate     68.468892      25308.034132         No  \n",
       "3  Hispanic        Moderate     18.200287      38221.622202         No  \n",
       "4     Mixed        Moderate     45.019153      26765.301404         No  \n",
       "\n",
       "[5 rows x 25 columns]"
      ]
     },
     "execution_count": 1,
     "metadata": {},
     "output_type": "execute_result"
    }
   ],
   "source": [
    "import pandas as pd\n",
    "ds=pd.read_csv(r\"D:\\liver_cancer_prediction.csv\")\n",
    "ds.head(5)"
   ]
  },
  {
   "cell_type": "code",
   "execution_count": 2,
   "id": "7cb46b2a-530a-443d-abcb-1678aac2a355",
   "metadata": {},
   "outputs": [
    {
     "name": "stdout",
     "output_type": "stream",
     "text": [
      "<class 'pandas.core.frame.DataFrame'>\n",
      "RangeIndex: 160292 entries, 0 to 160291\n",
      "Data columns (total 25 columns):\n",
      " #   Column                   Non-Null Count   Dtype  \n",
      "---  ------                   --------------   -----  \n",
      " 0   Country                  160292 non-null  object \n",
      " 1   Region                   160292 non-null  object \n",
      " 2   Population               160292 non-null  int64  \n",
      " 3   Incidence_Rate           160292 non-null  float64\n",
      " 4   Mortality_Rate           160292 non-null  float64\n",
      " 5   Gender                   160292 non-null  object \n",
      " 6   Age                      160292 non-null  int64  \n",
      " 7   Alcohol_Consumption      160292 non-null  object \n",
      " 8   Smoking_Status           160292 non-null  object \n",
      " 9   Hepatitis_B_Status       160292 non-null  object \n",
      " 10  Hepatitis_C_Status       160292 non-null  object \n",
      " 11  Obesity                  160292 non-null  object \n",
      " 12  Diabetes                 160292 non-null  object \n",
      " 13  Rural_or_Urban           160292 non-null  object \n",
      " 14  Seafood_Consumption      160292 non-null  object \n",
      " 15  Herbal_Medicine_Use      160292 non-null  object \n",
      " 16  Healthcare_Access        160292 non-null  object \n",
      " 17  Screening_Availability   160292 non-null  object \n",
      " 18  Treatment_Availability   160292 non-null  object \n",
      " 19  Liver_Transplant_Access  160292 non-null  object \n",
      " 20  Ethnicity                160292 non-null  object \n",
      " 21  Preventive_Care          160292 non-null  object \n",
      " 22  Survival_Rate            160292 non-null  float64\n",
      " 23  Cost_of_Treatment        160292 non-null  float64\n",
      " 24  Prediction               160292 non-null  object \n",
      "dtypes: float64(4), int64(2), object(19)\n",
      "memory usage: 30.6+ MB\n"
     ]
    }
   ],
   "source": [
    "ds.info()"
   ]
  },
  {
   "cell_type": "code",
   "execution_count": 3,
   "id": "655222fb-c9cb-4ec5-a228-63d466c122e3",
   "metadata": {},
   "outputs": [
    {
     "data": {
      "text/html": [
       "<div>\n",
       "<style scoped>\n",
       "    .dataframe tbody tr th:only-of-type {\n",
       "        vertical-align: middle;\n",
       "    }\n",
       "\n",
       "    .dataframe tbody tr th {\n",
       "        vertical-align: top;\n",
       "    }\n",
       "\n",
       "    .dataframe thead th {\n",
       "        text-align: right;\n",
       "    }\n",
       "</style>\n",
       "<table border=\"1\" class=\"dataframe\">\n",
       "  <thead>\n",
       "    <tr style=\"text-align: right;\">\n",
       "      <th></th>\n",
       "      <th>Population</th>\n",
       "      <th>Incidence_Rate</th>\n",
       "      <th>Mortality_Rate</th>\n",
       "      <th>Age</th>\n",
       "      <th>Survival_Rate</th>\n",
       "      <th>Cost_of_Treatment</th>\n",
       "    </tr>\n",
       "  </thead>\n",
       "  <tbody>\n",
       "    <tr>\n",
       "      <th>count</th>\n",
       "      <td>1.602920e+05</td>\n",
       "      <td>160292.000000</td>\n",
       "      <td>160292.000000</td>\n",
       "      <td>160292.000000</td>\n",
       "      <td>160292.000000</td>\n",
       "      <td>160292.000000</td>\n",
       "    </tr>\n",
       "    <tr>\n",
       "      <th>mean</th>\n",
       "      <td>7.527321e+08</td>\n",
       "      <td>18.523468</td>\n",
       "      <td>15.525234</td>\n",
       "      <td>54.640088</td>\n",
       "      <td>49.957811</td>\n",
       "      <td>25275.608904</td>\n",
       "    </tr>\n",
       "    <tr>\n",
       "      <th>std</th>\n",
       "      <td>4.328283e+08</td>\n",
       "      <td>9.513400</td>\n",
       "      <td>8.376871</td>\n",
       "      <td>20.188217</td>\n",
       "      <td>23.036437</td>\n",
       "      <td>14307.105453</td>\n",
       "    </tr>\n",
       "    <tr>\n",
       "      <th>min</th>\n",
       "      <td>1.011968e+06</td>\n",
       "      <td>2.000035</td>\n",
       "      <td>1.000080</td>\n",
       "      <td>20.000000</td>\n",
       "      <td>10.000548</td>\n",
       "      <td>500.397303</td>\n",
       "    </tr>\n",
       "    <tr>\n",
       "      <th>25%</th>\n",
       "      <td>3.772400e+08</td>\n",
       "      <td>10.319582</td>\n",
       "      <td>8.286968</td>\n",
       "      <td>37.000000</td>\n",
       "      <td>30.129577</td>\n",
       "      <td>12858.138774</td>\n",
       "    </tr>\n",
       "    <tr>\n",
       "      <th>50%</th>\n",
       "      <td>7.548388e+08</td>\n",
       "      <td>18.529822</td>\n",
       "      <td>15.565488</td>\n",
       "      <td>55.000000</td>\n",
       "      <td>49.858143</td>\n",
       "      <td>25349.819261</td>\n",
       "    </tr>\n",
       "    <tr>\n",
       "      <th>75%</th>\n",
       "      <td>1.126721e+09</td>\n",
       "      <td>26.751354</td>\n",
       "      <td>22.808666</td>\n",
       "      <td>72.000000</td>\n",
       "      <td>69.833652</td>\n",
       "      <td>37672.515875</td>\n",
       "    </tr>\n",
       "    <tr>\n",
       "      <th>max</th>\n",
       "      <td>1.499993e+09</td>\n",
       "      <td>34.999952</td>\n",
       "      <td>29.999829</td>\n",
       "      <td>89.000000</td>\n",
       "      <td>89.998005</td>\n",
       "      <td>49999.791824</td>\n",
       "    </tr>\n",
       "  </tbody>\n",
       "</table>\n",
       "</div>"
      ],
      "text/plain": [
       "         Population  Incidence_Rate  Mortality_Rate            Age  \\\n",
       "count  1.602920e+05   160292.000000   160292.000000  160292.000000   \n",
       "mean   7.527321e+08       18.523468       15.525234      54.640088   \n",
       "std    4.328283e+08        9.513400        8.376871      20.188217   \n",
       "min    1.011968e+06        2.000035        1.000080      20.000000   \n",
       "25%    3.772400e+08       10.319582        8.286968      37.000000   \n",
       "50%    7.548388e+08       18.529822       15.565488      55.000000   \n",
       "75%    1.126721e+09       26.751354       22.808666      72.000000   \n",
       "max    1.499993e+09       34.999952       29.999829      89.000000   \n",
       "\n",
       "       Survival_Rate  Cost_of_Treatment  \n",
       "count  160292.000000      160292.000000  \n",
       "mean       49.957811       25275.608904  \n",
       "std        23.036437       14307.105453  \n",
       "min        10.000548         500.397303  \n",
       "25%        30.129577       12858.138774  \n",
       "50%        49.858143       25349.819261  \n",
       "75%        69.833652       37672.515875  \n",
       "max        89.998005       49999.791824  "
      ]
     },
     "execution_count": 3,
     "metadata": {},
     "output_type": "execute_result"
    }
   ],
   "source": [
    "ds.describe()"
   ]
  },
  {
   "cell_type": "code",
   "execution_count": 9,
   "id": "a3ba619e-e77b-46fd-b64c-eb3b1ad2da9a",
   "metadata": {},
   "outputs": [
    {
     "data": {
      "text/plain": [
       "()"
      ]
     },
     "execution_count": 9,
     "metadata": {},
     "output_type": "execute_result"
    }
   ],
   "source": [
    "ds.shape[2:3]"
   ]
  },
  {
   "cell_type": "code",
   "execution_count": 13,
   "id": "6941eda7-c783-427c-b080-6c72fa049db9",
   "metadata": {},
   "outputs": [
    {
     "data": {
      "text/plain": [
       "Index(['Country', 'Region', 'Population'], dtype='object')"
      ]
     },
     "execution_count": 13,
     "metadata": {},
     "output_type": "execute_result"
    }
   ],
   "source": [
    "ds.columns[:3]"
   ]
  },
  {
   "cell_type": "code",
   "execution_count": 14,
   "id": "0a09aa29-f631-48b1-ac8e-24ef1dd8a3d4",
   "metadata": {},
   "outputs": [
    {
     "data": {
      "text/plain": [
       "Country                    0\n",
       "Region                     0\n",
       "Population                 0\n",
       "Incidence_Rate             0\n",
       "Mortality_Rate             0\n",
       "Gender                     0\n",
       "Age                        0\n",
       "Alcohol_Consumption        0\n",
       "Smoking_Status             0\n",
       "Hepatitis_B_Status         0\n",
       "Hepatitis_C_Status         0\n",
       "Obesity                    0\n",
       "Diabetes                   0\n",
       "Rural_or_Urban             0\n",
       "Seafood_Consumption        0\n",
       "Herbal_Medicine_Use        0\n",
       "Healthcare_Access          0\n",
       "Screening_Availability     0\n",
       "Treatment_Availability     0\n",
       "Liver_Transplant_Access    0\n",
       "Ethnicity                  0\n",
       "Preventive_Care            0\n",
       "Survival_Rate              0\n",
       "Cost_of_Treatment          0\n",
       "Prediction                 0\n",
       "dtype: int64"
      ]
     },
     "execution_count": 14,
     "metadata": {},
     "output_type": "execute_result"
    }
   ],
   "source": [
    "ds.isnull().sum()"
   ]
  },
  {
   "cell_type": "code",
   "execution_count": 16,
   "id": "1b8f17a7-0187-4f1c-86f8-28a414a26a6a",
   "metadata": {},
   "outputs": [
    {
     "data": {
      "text/plain": [
       "0"
      ]
     },
     "execution_count": 16,
     "metadata": {},
     "output_type": "execute_result"
    }
   ],
   "source": [
    "ds.duplicated().sum()"
   ]
  },
  {
   "cell_type": "code",
   "execution_count": 20,
   "id": "a744a6dd-1f81-4427-9920-3f88d1b819ee",
   "metadata": {},
   "outputs": [
    {
     "data": {
      "image/png": "[encoded data removed]",
      "text/plain": [
       "<Figure size 1000x600 with 6 Axes>"
      ]
     },
     "metadata": {},
     "output_type": "display_data"
    }
   ],
   "source": [
    "import matplotlib.pyplot as plt\n",
    "import seaborn as sns\n",
    "ds.hist(figsize=(10,6))\n",
    "plt.show()"
   ]
  },
  {
   "cell_type": "code",
   "execution_count": 22,
   "id": "a2389deb-e2d0-4eda-a930-090c4811962c",
   "metadata": {},
   "outputs": [
    {
     "data": {
      "image/png": "[encoded data removed]",
      "text/plain": [
       "<Figure size 640x480 with 1 Axes>"
      ]
     },
     "metadata": {},
     "output_type": "display_data"
    }
   ],
   "source": [
    "sns.boxplot(x=ds[\"Survival_Rate\"])\n",
    "plt.show()"
   ]
  },
  {
   "cell_type": "code",
   "execution_count": 25,
   "id": "082f4083-fcbe-4b08-b4dd-d0cf28a1c413",
   "metadata": {},
   "outputs": [
    {
     "ename": "ValueError",
     "evalue": "could not convert string to float: 'Nigeria'",
     "output_type": "error",
     "traceback": [
      "\u001b[1;31m---------------------------------------------------------------------------\u001b[0m",
      "\u001b[1;31mValueError\u001b[0m                                Traceback (most recent call last)",
      "Cell \u001b[1;32mIn[25], line 2\u001b[0m\n\u001b[0;32m      1\u001b[0m plt\u001b[38;5;241m.\u001b[39mfigure(figsize\u001b[38;5;241m=\u001b[39m(\u001b[38;5;241m8\u001b[39m,\u001b[38;5;241m6\u001b[39m))\n\u001b[1;32m----> 2\u001b[0m sns\u001b[38;5;241m.\u001b[39mheatmap(\u001b[43mds\u001b[49m\u001b[38;5;241;43m.\u001b[39;49m\u001b[43mcorr\u001b[49m\u001b[43m(\u001b[49m\u001b[43m)\u001b[49m,annot\u001b[38;5;241m=\u001b[39m\u001b[38;5;28;01mTrue\u001b[39;00m,cmap\u001b[38;5;241m=\u001b[39m\u001b[38;5;124m\"\u001b[39m\u001b[38;5;124mSurvival_Rate\u001b[39m\u001b[38;5;124m\"\u001b[39m)\n\u001b[0;32m      3\u001b[0m plt\u001b[38;5;241m.\u001b[39mshow()\n",
      "File \u001b[1;32mC:\\Python311\\Lib\\site-packages\\pandas\\core\\frame.py:11049\u001b[0m, in \u001b[0;36mDataFrame.corr\u001b[1;34m(self, method, min_periods, numeric_only)\u001b[0m\n\u001b[0;32m  11047\u001b[0m cols \u001b[38;5;241m=\u001b[39m data\u001b[38;5;241m.\u001b[39mcolumns\n\u001b[0;32m  11048\u001b[0m idx \u001b[38;5;241m=\u001b[39m cols\u001b[38;5;241m.\u001b[39mcopy()\n\u001b[1;32m> 11049\u001b[0m mat \u001b[38;5;241m=\u001b[39m \u001b[43mdata\u001b[49m\u001b[38;5;241;43m.\u001b[39;49m\u001b[43mto_numpy\u001b[49m\u001b[43m(\u001b[49m\u001b[43mdtype\u001b[49m\u001b[38;5;241;43m=\u001b[39;49m\u001b[38;5;28;43mfloat\u001b[39;49m\u001b[43m,\u001b[49m\u001b[43m \u001b[49m\u001b[43mna_value\u001b[49m\u001b[38;5;241;43m=\u001b[39;49m\u001b[43mnp\u001b[49m\u001b[38;5;241;43m.\u001b[39;49m\u001b[43mnan\u001b[49m\u001b[43m,\u001b[49m\u001b[43m \u001b[49m\u001b[43mcopy\u001b[49m\u001b[38;5;241;43m=\u001b[39;49m\u001b[38;5;28;43;01mFalse\u001b[39;49;00m\u001b[43m)\u001b[49m\n\u001b[0;32m  11051\u001b[0m \u001b[38;5;28;01mif\u001b[39;00m method \u001b[38;5;241m==\u001b[39m \u001b[38;5;124m\"\u001b[39m\u001b[38;5;124mpearson\u001b[39m\u001b[38;5;124m\"\u001b[39m:\n\u001b[0;32m  11052\u001b[0m     correl \u001b[38;5;241m=\u001b[39m libalgos\u001b[38;5;241m.\u001b[39mnancorr(mat, minp\u001b[38;5;241m=\u001b[39mmin_periods)\n",
      "File \u001b[1;32mC:\\Python311\\Lib\\site-packages\\pandas\\core\\frame.py:1993\u001b[0m, in \u001b[0;36mDataFrame.to_numpy\u001b[1;34m(self, dtype, copy, na_value)\u001b[0m\n\u001b[0;32m   1991\u001b[0m \u001b[38;5;28;01mif\u001b[39;00m dtype \u001b[38;5;129;01mis\u001b[39;00m \u001b[38;5;129;01mnot\u001b[39;00m \u001b[38;5;28;01mNone\u001b[39;00m:\n\u001b[0;32m   1992\u001b[0m     dtype \u001b[38;5;241m=\u001b[39m np\u001b[38;5;241m.\u001b[39mdtype(dtype)\n\u001b[1;32m-> 1993\u001b[0m result \u001b[38;5;241m=\u001b[39m \u001b[38;5;28;43mself\u001b[39;49m\u001b[38;5;241;43m.\u001b[39;49m\u001b[43m_mgr\u001b[49m\u001b[38;5;241;43m.\u001b[39;49m\u001b[43mas_array\u001b[49m\u001b[43m(\u001b[49m\u001b[43mdtype\u001b[49m\u001b[38;5;241;43m=\u001b[39;49m\u001b[43mdtype\u001b[49m\u001b[43m,\u001b[49m\u001b[43m \u001b[49m\u001b[43mcopy\u001b[49m\u001b[38;5;241;43m=\u001b[39;49m\u001b[43mcopy\u001b[49m\u001b[43m,\u001b[49m\u001b[43m \u001b[49m\u001b[43mna_value\u001b[49m\u001b[38;5;241;43m=\u001b[39;49m\u001b[43mna_value\u001b[49m\u001b[43m)\u001b[49m\n\u001b[0;32m   1994\u001b[0m \u001b[38;5;28;01mif\u001b[39;00m result\u001b[38;5;241m.\u001b[39mdtype \u001b[38;5;129;01mis\u001b[39;00m \u001b[38;5;129;01mnot\u001b[39;00m dtype:\n\u001b[0;32m   1995\u001b[0m     result \u001b[38;5;241m=\u001b[39m np\u001b[38;5;241m.\u001b[39masarray(result, dtype\u001b[38;5;241m=\u001b[39mdtype)\n",
      "File \u001b[1;32mC:\\Python311\\Lib\\site-packages\\pandas\\core\\internals\\managers.py:1694\u001b[0m, in \u001b[0;36mBlockManager.as_array\u001b[1;34m(self, dtype, copy, na_value)\u001b[0m\n\u001b[0;32m   1692\u001b[0m         arr\u001b[38;5;241m.\u001b[39mflags\u001b[38;5;241m.\u001b[39mwriteable \u001b[38;5;241m=\u001b[39m \u001b[38;5;28;01mFalse\u001b[39;00m\n\u001b[0;32m   1693\u001b[0m \u001b[38;5;28;01melse\u001b[39;00m:\n\u001b[1;32m-> 1694\u001b[0m     arr \u001b[38;5;241m=\u001b[39m \u001b[38;5;28;43mself\u001b[39;49m\u001b[38;5;241;43m.\u001b[39;49m\u001b[43m_interleave\u001b[49m\u001b[43m(\u001b[49m\u001b[43mdtype\u001b[49m\u001b[38;5;241;43m=\u001b[39;49m\u001b[43mdtype\u001b[49m\u001b[43m,\u001b[49m\u001b[43m \u001b[49m\u001b[43mna_value\u001b[49m\u001b[38;5;241;43m=\u001b[39;49m\u001b[43mna_value\u001b[49m\u001b[43m)\u001b[49m\n\u001b[0;32m   1695\u001b[0m     \u001b[38;5;66;03m# The underlying data was copied within _interleave, so no need\u001b[39;00m\n\u001b[0;32m   1696\u001b[0m     \u001b[38;5;66;03m# to further copy if copy=True or setting na_value\u001b[39;00m\n\u001b[0;32m   1698\u001b[0m \u001b[38;5;28;01mif\u001b[39;00m na_value \u001b[38;5;129;01mis\u001b[39;00m lib\u001b[38;5;241m.\u001b[39mno_default:\n",
      "File \u001b[1;32mC:\\Python311\\Lib\\site-packages\\pandas\\core\\internals\\managers.py:1753\u001b[0m, in \u001b[0;36mBlockManager._interleave\u001b[1;34m(self, dtype, na_value)\u001b[0m\n\u001b[0;32m   1751\u001b[0m     \u001b[38;5;28;01melse\u001b[39;00m:\n\u001b[0;32m   1752\u001b[0m         arr \u001b[38;5;241m=\u001b[39m blk\u001b[38;5;241m.\u001b[39mget_values(dtype)\n\u001b[1;32m-> 1753\u001b[0m     \u001b[43mresult\u001b[49m\u001b[43m[\u001b[49m\u001b[43mrl\u001b[49m\u001b[38;5;241;43m.\u001b[39;49m\u001b[43mindexer\u001b[49m\u001b[43m]\u001b[49m \u001b[38;5;241m=\u001b[39m arr\n\u001b[0;32m   1754\u001b[0m     itemmask[rl\u001b[38;5;241m.\u001b[39mindexer] \u001b[38;5;241m=\u001b[39m \u001b[38;5;241m1\u001b[39m\n\u001b[0;32m   1756\u001b[0m \u001b[38;5;28;01mif\u001b[39;00m \u001b[38;5;129;01mnot\u001b[39;00m itemmask\u001b[38;5;241m.\u001b[39mall():\n",
      "\u001b[1;31mValueError\u001b[0m: could not convert string to float: 'Nigeria'"
     ]
    },
    {
     "data": {
      "text/plain": [
       "<Figure size 800x600 with 0 Axes>"
      ]
     },
     "metadata": {},
     "output_type": "display_data"
    }
   ],
   "source": [
    "plt.figure(figsize=(8,6))\n",
    "sns.heatmap(ds.corr(),annot=True,cmap=\"Survival_Rate\")\n",
    "plt.show()"
   ]
  },
  {
   "cell_type": "code",
   "execution_count": 29,
   "id": "58c5d8ab-e7a6-47b8-b800-80a252f51e0d",
   "metadata": {},
   "outputs": [
    {
     "data": {
      "image/png": "[encoded data removed]",
      "text/plain": [
       "<Figure size 640x480 with 1 Axes>"
      ]
     },
     "metadata": {},
     "output_type": "display_data"
    }
   ],
   "source": [
    "import pandas as pd\n",
    "ds=pd.read_csv(r\"D:\\liver_cancer_prediction.csv\")\n",
    "sns.countplot(x='Age', data=ds)\n",
    "plt.show()"
   ]
  },
  {
   "cell_type": "code",
   "execution_count": 46,
   "id": "1509bee1-77a5-471d-a8ff-1e145e5a0c34",
   "metadata": {},
   "outputs": [
    {
     "name": "stdout",
     "output_type": "stream",
     "text": [
      "[-0.11160495]\n"
     ]
    },
    {
     "name": "stderr",
     "output_type": "stream",
     "text": [
      "C:\\Python311\\Lib\\site-packages\\sklearn\\utils\\validation.py:2739: UserWarning: X does not have valid feature names, but StandardScaler was fitted with feature names\n",
      "  warnings.warn(\n"
     ]
    }
   ],
   "source": [
    "from sklearn.preprocessing import StandardScaler, MinMaxScaler\n",
    "from sklearn import linear_model\n",
    "scale = StandardScaler()  # or MinMaxScaler()\n",
    "# ds[['Incidence_Rate', 'Age']] = scaler.fit_transform(ds[['Incidence_Rate', 'Age']])\n",
    "X = ds[['Incidence_Rate', 'Age']]\n",
    "y = ds['Survival_Rate']\n",
    "\n",
    "scaledX = scale.fit_transform(X)\n",
    "reg=linear_model.LinearRegression()\n",
    "reg.fit(scaledX,y)\n",
    "scaled = scale.transform([[15.381360, 81]])\n",
    "predictedSurvival_Rate = reg.predict([scaled[0]])\n",
    "print(predictedSurvival_Rate)"
   ]
  },
  {
   "cell_type": "code",
   "execution_count": null,
   "id": "5ca8a5cc-b326-436b-9116-e0ceb300f6bc",
   "metadata": {},
   "outputs": [],
   "source": []
  },
  {
   "cell_type": "code",
   "execution_count": null,
   "id": "bfb49df2-1683-4e3a-966d-9a20b3b80bba",
   "metadata": {},
   "outputs": [],
   "source": []
  },
  {
   "cell_type": "code",
   "execution_count": null,
   "id": "f1a0e5a4-fc3d-40e2-9720-5af4f4af2550",
   "metadata": {},
   "outputs": [],
   "source": []
  }
 ],
 "metadata": {
  "kernelspec": {
   "display_name": "Python 3 (ipykernel)",
   "language": "python",
   "name": "python3"
  },
  "language_info": {
   "codemirror_mode": {
    "name": "ipython",
    "version": 3
   },
   "file_extension": ".py",
   "mimetype": "text/x-python",
   "name": "python",
   "nbconvert_exporter": "python",
   "pygments_lexer": "ipython3",
   "version": "3.11.0"
  }
 },
 "nbformat": 4,
 "nbformat_minor": 5
}
