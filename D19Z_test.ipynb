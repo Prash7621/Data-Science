{
 "cells": [
  {
   "cell_type": "code",
   "execution_count": 11,
   "id": "b0f739ae-bf13-4cc0-bd02-a5fdbe77515d",
   "metadata": {},
   "outputs": [
    {
     "name": "stdout",
     "output_type": "stream",
     "text": [
      "mean of old design data : 37.769999999999996\n",
      "mean of new design data : 39.09333333333334\n",
      "2.8992780710607042\n"
     ]
    }
   ],
   "source": [
    "import numpy as np\n",
    "Old_design_data = [35.4, 27.8, 48.9, 44.1, 30.5, 37.2, 42.8, 45.0, 29.7, 33.9, 41.5, 46.3, 28.7, 31.2, 39.4, 34.6, 36.8, 43.9, 32.5, 40.7, 29.8, 38.2, 46.0, 27.4, 44.6, 30.8, 41.9, 35.7, 48.2, 39.6]\n",
    "New_design_data = [49.5, 34.8, 47.1, 39.9, 29.2, 40.3, 36.7, 45.8, 28.3, 33.5, 44.2, 37.9, 42.5, 31.8, 35.0, 48.6, 39.1, 46.8, 43.4, 38.0, 31.5, 47.9, 29.3, 34.1, 40.6, 28.9, 32.4, 45.2, 44.0, 46.5]\n",
    "p_std = 2.5\n",
    "uold=np.mean(Old_design_data)\n",
    "unew=np.mean(New_design_data)\n",
    "print(\"mean of old design data :\",uold)\n",
    "print(\"mean of new design data :\",unew)\n",
    "\n",
    "z_test=(unew-uold)/(p_std/np.sqrt(30))\n",
    "print(z_test)"
   ]
  },
  {
   "cell_type": "code",
   "execution_count": 19,
   "id": "78fcd391-abbd-49d0-b1be-ea6b702f6fd1",
   "metadata": {},
   "outputs": [
    {
     "name": "stdout",
     "output_type": "stream",
     "text": [
      "1.6448536269514722\n"
     ]
    }
   ],
   "source": [
    "import scipy.stats as st\n",
    "z_val=st.norm.ppf(1-0.05)\n",
    "print(z_val)"
   ]
  },
  {
   "cell_type": "code",
   "execution_count": 22,
   "id": "d8c8dd9b-74ac-439e-b5c7-16e537eb861f",
   "metadata": {},
   "outputs": [
    {
     "name": "stdout",
     "output_type": "stream",
     "text": [
      "2.8481572990268575\n"
     ]
    }
   ],
   "source": [
    "uold=37.7\n",
    "unew=39.0\n",
    "p_std=2.5\n",
    "n=np.sqrt(30)\n",
    "z_cal=(unew-uold)/(p_std/n)\n",
    "print(z_cal)"
   ]
  },
  {
   "cell_type": "code",
   "execution_count": 23,
   "id": "ac160038-3851-48a9-bf1a-d6fd85ba6e29",
   "metadata": {},
   "outputs": [
    {
     "name": "stdout",
     "output_type": "stream",
     "text": [
      "New website is better then Old website. \n"
     ]
    }
   ],
   "source": [
    "if unew>uold:\n",
    "    print(\"New website is better then Old website. \")\n",
    "elif unew<uold:\n",
    "    print(\"Old website is better than New website. \")\n",
    "else:\n",
    "    print(\"Both website are equal.\")"
   ]
  },
  {
   "cell_type": "code",
   "execution_count": null,
   "id": "ad5e494f-b66c-45f1-b856-a8758608d17b",
   "metadata": {},
   "outputs": [],
   "source": []
  }
 ],
 "metadata": {
  "kernelspec": {
   "display_name": "Python 3 (ipykernel)",
   "language": "python",
   "name": "python3"
  },
  "language_info": {
   "codemirror_mode": {
    "name": "ipython",
    "version": 3
   },
   "file_extension": ".py",
   "mimetype": "text/x-python",
   "name": "python",
   "nbconvert_exporter": "python",
   "pygments_lexer": "ipython3",
   "version": "3.11.0"
  }
 },
 "nbformat": 4,
 "nbformat_minor": 5
}
