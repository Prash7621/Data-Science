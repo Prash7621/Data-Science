{
 "cells": [
  {
   "cell_type": "code",
   "execution_count": 5,
   "id": "a22c71a7-d0b2-4820-a79c-456147e9f6bb",
   "metadata": {},
   "outputs": [
    {
     "name": "stdout",
     "output_type": "stream",
     "text": [
      "KstestResult(statistic=0.024424208278466364, pvalue=0.5810374367061247, statistic_location=0.16004145772002837, statistic_sign=1)\n"
     ]
    }
   ],
   "source": [
    "import numpy as np\n",
    "from scipy.stats import kstest\n",
    "v=np.random.normal(size=1000)\n",
    "res=kstest(v,'norm')\n",
    "print(res)"
   ]
  },
  {
   "cell_type": "code",
   "execution_count": 13,
   "id": "2de12e0f-56a7-4bbd-a5cf-5792f95a84da",
   "metadata": {},
   "outputs": [
    {
     "name": "stdout",
     "output_type": "stream",
     "text": [
      "DescribeResult(nobs=1000, minmax=(-3.2103221137013542, 3.5192304675183927), mean=0.027540757060836737, variance=1.0284572026507162, skewness=0.08166502704011919, kurtosis=0.09066267014535834)\n"
     ]
    }
   ],
   "source": [
    "import numpy as np\n",
    "from scipy.stats import describe\n",
    "\n",
    "v=np.random.normal(size=1000)\n",
    "res=describe(v)\n",
    "print(res)\n"
   ]
  },
  {
   "cell_type": "code",
   "execution_count": 14,
   "id": "ad1aca55-ef81-4adb-9511-cfaab5a74329",
   "metadata": {},
   "outputs": [
    {
     "name": "stdout",
     "output_type": "stream",
     "text": [
      "0.02571069053396515\n",
      "-0.05768657687867673\n"
     ]
    }
   ],
   "source": [
    "import numpy as np\n",
    "from scipy.stats import skew , kurtosis\n",
    "v=np.random.normal(size=1000)\n",
    "print(skew(v))\n",
    "print(kurtosis(v))"
   ]
  },
  {
   "cell_type": "code",
   "execution_count": 15,
   "id": "3d3899c5-d81f-4f7f-a371-859cd5efbd60",
   "metadata": {},
   "outputs": [
    {
     "name": "stdout",
     "output_type": "stream",
     "text": [
      "NormaltestResult(statistic=1.4232734652207863, pvalue=0.49084016554239374)\n"
     ]
    }
   ],
   "source": [
    "import numpy as np \n",
    "from scipy.stats import normaltest\n",
    "v=np.random.normal(size=1000)\n",
    "print(normaltest(v))"
   ]
  },
  {
   "cell_type": "code",
   "execution_count": null,
   "id": "523273a2-2ad8-45ad-83cc-1ec8b55f6336",
   "metadata": {},
   "outputs": [],
   "source": []
  }
 ],
 "metadata": {
  "kernelspec": {
   "display_name": "Python 3 (ipykernel)",
   "language": "python",
   "name": "python3"
  },
  "language_info": {
   "codemirror_mode": {
    "name": "ipython",
    "version": 3
   },
   "file_extension": ".py",
   "mimetype": "text/x-python",
   "name": "python",
   "nbconvert_exporter": "python",
   "pygments_lexer": "ipython3",
   "version": "3.11.0"
  }
 },
 "nbformat": 4,
 "nbformat_minor": 5
}
