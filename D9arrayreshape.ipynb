{
 "cells": [
  {
   "cell_type": "code",
   "execution_count": 5,
   "id": "159d5035-6bff-43ae-bc35-1bae07c817ef",
   "metadata": {},
   "outputs": [
    {
     "name": "stdout",
     "output_type": "stream",
     "text": [
      "[[ 1  2  3]\n",
      " [ 4  5  6]\n",
      " [ 7  8  9]\n",
      " [10 11 12]]\n"
     ]
    }
   ],
   "source": [
    "import numpy as np\n",
    "arr=np.array([1,2,3,4,5,6,7,8,9,10,11,12])\n",
    "newarr=arr.reshape(4,3)\n",
    "print(newarr)"
   ]
  },
  {
   "cell_type": "code",
   "execution_count": 6,
   "id": "595ccbd0-3f75-48cd-be2d-a132f2817373",
   "metadata": {},
   "outputs": [
    {
     "name": "stdout",
     "output_type": "stream",
     "text": [
      "[[[ 1  2]\n",
      "  [ 3  4]\n",
      "  [ 5  6]]\n",
      "\n",
      " [[ 7  8]\n",
      "  [ 9 10]\n",
      "  [11 12]]]\n"
     ]
    }
   ],
   "source": [
    "import numpy as np\n",
    "arr=np.array([1,2,3,4,5,6,7,8,9,10,11,12])\n",
    "newarr=arr.reshape(2,3,2)\n",
    "print(newarr)"
   ]
  },
  {
   "cell_type": "code",
   "execution_count": 7,
   "id": "3769c79e-ad29-40ca-853f-9970508554ef",
   "metadata": {},
   "outputs": [
    {
     "name": "stdout",
     "output_type": "stream",
     "text": [
      "[[[1 2]\n",
      "  [3 4]]\n",
      "\n",
      " [[5 6]\n",
      "  [7 8]]]\n"
     ]
    }
   ],
   "source": [
    "import numpy as np\n",
    "arr=np.array([1,2,3,4,5,6,7,8])\n",
    "newarr=arr.reshape(2,2,-1)\n",
    "print(newarr)"
   ]
  },
  {
   "cell_type": "code",
   "execution_count": 8,
   "id": "5a96d060-68b4-4c0c-9ffa-5f0419546f8c",
   "metadata": {},
   "outputs": [
    {
     "name": "stdout",
     "output_type": "stream",
     "text": [
      "[1 2 3 4 5]\n"
     ]
    }
   ],
   "source": [
    "import numpy as np\n",
    "arr=np.array([1,2,3,4,5] , ndmin=7)\n",
    "newarr=arr.reshape(-1)\n",
    "print(newarr)"
   ]
  },
  {
   "cell_type": "code",
   "execution_count": null,
   "id": "87f3e4d8-71ea-4d74-8f6f-ee6200ef2ed5",
   "metadata": {},
   "outputs": [],
   "source": []
  }
 ],
 "metadata": {
  "kernelspec": {
   "display_name": "Python 3 (ipykernel)",
   "language": "python",
   "name": "python3"
  },
  "language_info": {
   "codemirror_mode": {
    "name": "ipython",
    "version": 3
   },
   "file_extension": ".py",
   "mimetype": "text/x-python",
   "name": "python",
   "nbconvert_exporter": "python",
   "pygments_lexer": "ipython3",
   "version": "3.11.0"
  }
 },
 "nbformat": 4,
 "nbformat_minor": 5
}
