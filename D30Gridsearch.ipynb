{
 "cells": [
  {
   "cell_type": "code",
   "execution_count": 1,
   "id": "6f90b9bd-13c7-4230-9d4e-91dfa75b0b90",
   "metadata": {},
   "outputs": [],
   "source": [
    "from sklearn import datasets\n",
    "from sklearn.linear_model import LogisticRegression\n"
   ]
  },
  {
   "cell_type": "code",
   "execution_count": 2,
   "id": "09a6f7dc-b02b-4b9a-bca6-4b9d1ba4c856",
   "metadata": {},
   "outputs": [],
   "source": [
    "iris = datasets.load_iris()"
   ]
  },
  {
   "cell_type": "code",
   "execution_count": 3,
   "id": "653eff5c-15b9-4e2f-9458-59cd921fa6b8",
   "metadata": {},
   "outputs": [],
   "source": [
    "X = iris['data']\n",
    "y = iris['target']"
   ]
  },
  {
   "cell_type": "code",
   "execution_count": 4,
   "id": "c176e699-129b-40a8-ad84-d54d594e18b6",
   "metadata": {},
   "outputs": [],
   "source": [
    "logit = LogisticRegression(max_iter = 10000)"
   ]
  },
  {
   "cell_type": "code",
   "execution_count": 5,
   "id": "52a204b0-ad0e-4f3e-b9a1-15b6f3c6eeea",
   "metadata": {},
   "outputs": [
    {
     "name": "stdout",
     "output_type": "stream",
     "text": [
      "LogisticRegression(max_iter=10000)\n"
     ]
    }
   ],
   "source": [
    "print(logit.fit(X,y))"
   ]
  },
  {
   "cell_type": "code",
   "execution_count": 6,
   "id": "1e4c466b-4c8d-4d7a-acff-02d55e2d143b",
   "metadata": {},
   "outputs": [
    {
     "name": "stdout",
     "output_type": "stream",
     "text": [
      "0.9733333333333334\n"
     ]
    }
   ],
   "source": [
    "print(logit.score(X,y))"
   ]
  },
  {
   "cell_type": "code",
   "execution_count": null,
   "id": "8f2496d8-cfb8-4cc1-be2c-2a72464bd3ce",
   "metadata": {},
   "outputs": [],
   "source": []
  },
  {
   "cell_type": "code",
   "execution_count": null,
   "id": "8bce39d2-5f1d-436e-b428-534ef54c981e",
   "metadata": {},
   "outputs": [],
   "source": []
  },
  {
   "cell_type": "code",
   "execution_count": 7,
   "id": "1b5b6bb8-0f17-4b9f-9c86-06e4e72ee124",
   "metadata": {},
   "outputs": [],
   "source": [
    "from sklearn import datasets\n",
    "from sklearn.linear_model import LogisticRegression\n"
   ]
  },
  {
   "cell_type": "code",
   "execution_count": 8,
   "id": "7a275266-8f0b-4e44-af3d-8cd27fde3f30",
   "metadata": {},
   "outputs": [],
   "source": [
    "iris = datasets.load_iris()"
   ]
  },
  {
   "cell_type": "code",
   "execution_count": 9,
   "id": "d2261aa1-734b-49cd-ab15-3aa366a1a72c",
   "metadata": {},
   "outputs": [],
   "source": [
    "X = iris['data']\n",
    "y = iris['target']"
   ]
  },
  {
   "cell_type": "code",
   "execution_count": 10,
   "id": "a81538a2-dc55-45e6-9ad9-d438a595fb1d",
   "metadata": {},
   "outputs": [],
   "source": [
    "logit = LogisticRegression(max_iter = 10000)"
   ]
  },
  {
   "cell_type": "code",
   "execution_count": 11,
   "id": "d906f518-89c2-4275-a269-500bd6a3c180",
   "metadata": {},
   "outputs": [],
   "source": [
    "C = [0.25, 0.5, 0.75, 1, 1.25, 1.5, 1.75, 2]"
   ]
  },
  {
   "cell_type": "code",
   "execution_count": 12,
   "id": "f0c0a447-874c-47b3-a281-19046f143419",
   "metadata": {},
   "outputs": [],
   "source": [
    "scores = []"
   ]
  },
  {
   "cell_type": "code",
   "execution_count": 13,
   "id": "a8bc3561-66a4-4aa7-889d-3baa0755ece5",
   "metadata": {},
   "outputs": [],
   "source": [
    "for choice in C:\n",
    "  logit.set_params(C=choice)\n",
    "  logit.fit(X, y)\n",
    "  scores.append(logit.score(X, y))"
   ]
  },
  {
   "cell_type": "code",
   "execution_count": 14,
   "id": "988b643e-9435-4b61-88d8-897d3990f1a1",
   "metadata": {},
   "outputs": [
    {
     "name": "stdout",
     "output_type": "stream",
     "text": [
      "[0.9666666666666667, 0.9666666666666667, 0.9733333333333334, 0.9733333333333334, 0.98, 0.98, 0.9866666666666667, 0.9866666666666667]\n"
     ]
    }
   ],
   "source": [
    "print(scores)"
   ]
  },
  {
   "cell_type": "code",
   "execution_count": null,
   "id": "aa7133f5-f3e2-420a-89cb-ddd862cf75a2",
   "metadata": {},
   "outputs": [],
   "source": []
  }
 ],
 "metadata": {
  "kernelspec": {
   "display_name": "Python 3 (ipykernel)",
   "language": "python",
   "name": "python3"
  },
  "language_info": {
   "codemirror_mode": {
    "name": "ipython",
    "version": 3
   },
   "file_extension": ".py",
   "mimetype": "text/x-python",
   "name": "python",
   "nbconvert_exporter": "python",
   "pygments_lexer": "ipython3",
   "version": "3.13.2"
  }
 },
 "nbformat": 4,
 "nbformat_minor": 5
}
