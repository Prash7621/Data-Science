{
 "cells": [
  {
   "cell_type": "code",
   "execution_count": 1,
   "id": "aac3b381-b1cf-47c1-8b5f-ab3e56ee16c0",
   "metadata": {},
   "outputs": [
    {
     "name": "stdout",
     "output_type": "stream",
     "text": [
      "[7 7 7 7 5 7 7 7 7 7 7 7 7 3 7 7 7 5 3 7 3 5 7 5 7 7 5 7 7 5 7 5 7 3 7 5 7\n",
      " 7 5 7 7 7 7 5 5 5 7 3 5 7 5 7 5 7 3 7 3 7 5 5 3 7 7 7 7 7 7 5 7 7 5 7 3 7\n",
      " 3 7 7 7 7 7 7 5 5 5 5 5 5 7 5 5 5 5 5 5 5 7 7 7 5 5]\n"
     ]
    }
   ],
   "source": [
    "from numpy import random\n",
    "x=random.choice([3,5,7,9],p=[0.1,0.3,0.6,0.0],size=(100))\n",
    "print(x)"
   ]
  },
  {
   "cell_type": "code",
   "execution_count": 2,
   "id": "9c983469-b66d-4df6-94de-e498448edd3d",
   "metadata": {},
   "outputs": [
    {
     "name": "stdout",
     "output_type": "stream",
     "text": [
      "[[7 7 5 7 7]\n",
      " [5 7 7 5 5]\n",
      " [3 7 7 7 7]]\n"
     ]
    }
   ],
   "source": [
    "from numpy import random\n",
    "x=random.choice([3,5,7,9],p=[0.1,0.3,0.6,0.0],size=(3,5))\n",
    "print(x)"
   ]
  },
  {
   "cell_type": "code",
   "execution_count": null,
   "id": "536fc156-689c-4511-94bb-4bea48cfc05f",
   "metadata": {},
   "outputs": [],
   "source": []
  }
 ],
 "metadata": {
  "kernelspec": {
   "display_name": "Python 3 (ipykernel)",
   "language": "python",
   "name": "python3"
  },
  "language_info": {
   "codemirror_mode": {
    "name": "ipython",
    "version": 3
   },
   "file_extension": ".py",
   "mimetype": "text/x-python",
   "name": "python",
   "nbconvert_exporter": "python",
   "pygments_lexer": "ipython3",
   "version": "3.11.0"
  }
 },
 "nbformat": 4,
 "nbformat_minor": 5
}
