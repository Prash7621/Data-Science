{
  "nbformat": 4,
  "nbformat_minor": 0,
  "metadata": {
    "colab": {
      "provenance": [],
      "authorship_tag": "ABX9TyNHc0uDlWkEzJBue2TtceeH",
      "include_colab_link": true
    },
    "kernelspec": {
      "name": "python3",
      "display_name": "Python 3"
    },
    "language_info": {
      "name": "python"
    }
  },
  "cells": [
    {
      "cell_type": "markdown",
      "metadata": {
        "id": "view-in-github",
        "colab_type": "text"
      },
      "source": [
        "<a href=\"https://colab.research.google.com/github/Prash7621/Data-Science/blob/main/Untitled1.ipynb\" target=\"_parent\"><img src=\"https://colab.research.google.com/assets/colab-badge.svg\" alt=\"Open In Colab\"/></a>"
      ]
    },
    {
      "cell_type": "code",
      "execution_count": null,
      "metadata": {
        "colab": {
          "base_uri": "https://localhost:8080/"
        },
        "id": "qVnkyc1ES7dG",
        "outputId": "7716987a-a8b4-4ae7-fc6d-5273b37199bd"
      },
      "outputs": [
        {
          "output_type": "stream",
          "name": "stdout",
          "text": [
            "Accuracy: 1.00\n",
            "\n",
            "Correct Predictions:\n",
            "Index 0: True Label = 1, Predicted = 1\n",
            "Index 1: True Label = 0, Predicted = 0\n",
            "Index 2: True Label = 2, Predicted = 2\n",
            "Index 3: True Label = 1, Predicted = 1\n",
            "Index 4: True Label = 1, Predicted = 1\n",
            "Index 5: True Label = 0, Predicted = 0\n",
            "Index 6: True Label = 1, Predicted = 1\n",
            "Index 7: True Label = 2, Predicted = 2\n",
            "Index 8: True Label = 1, Predicted = 1\n",
            "Index 9: True Label = 1, Predicted = 1\n",
            "Index 10: True Label = 2, Predicted = 2\n",
            "Index 11: True Label = 0, Predicted = 0\n",
            "Index 12: True Label = 0, Predicted = 0\n",
            "Index 13: True Label = 0, Predicted = 0\n",
            "Index 14: True Label = 0, Predicted = 0\n",
            "Index 15: True Label = 1, Predicted = 1\n",
            "Index 16: True Label = 2, Predicted = 2\n",
            "Index 17: True Label = 1, Predicted = 1\n",
            "Index 18: True Label = 1, Predicted = 1\n",
            "Index 19: True Label = 2, Predicted = 2\n",
            "Index 20: True Label = 0, Predicted = 0\n",
            "Index 21: True Label = 2, Predicted = 2\n",
            "Index 22: True Label = 0, Predicted = 0\n",
            "Index 23: True Label = 2, Predicted = 2\n",
            "Index 24: True Label = 2, Predicted = 2\n",
            "Index 25: True Label = 2, Predicted = 2\n",
            "Index 26: True Label = 2, Predicted = 2\n",
            "Index 27: True Label = 2, Predicted = 2\n",
            "Index 28: True Label = 0, Predicted = 0\n",
            "Index 29: True Label = 0, Predicted = 0\n",
            "\n",
            "Incorrect Predictions:\n"
          ]
        }
      ],
      "source": [
        "from sklearn.datasets import load_iris\n",
        "from sklearn.model_selection import train_test_split\n",
        "from sklearn.ensemble import RandomForestClassifier\n",
        "from sklearn.metrics import accuracy_score\n",
        "import numpy as np\n",
        "\n",
        "# Load the iris dataset\n",
        "iris = load_iris()\n",
        "X, y = iris.data, iris.target\n",
        "\n",
        "# Split the data into training and testing sets\n",
        "X_train, X_test, y_train, y_test = train_test_split(X, y, test_size=0.2, random_state=42)\n",
        "\n",
        "# Create and train the Random Forest model\n",
        "clf = RandomForestClassifier(n_estimators=100, random_state=42)\n",
        "clf.fit(X_train, y_train)\n",
        "\n",
        "# Make predictions\n",
        "y_pred = clf.predict(X_test)\n",
        "\n",
        "# Print accuracy\n",
        "accuracy = accuracy_score(y_test, y_pred)\n",
        "print(f'Accuracy: {accuracy:.2f}')\n",
        "\n",
        "# Print correct and incorrect predictions\n",
        "print('\\nCorrect Predictions:')\n",
        "for i in range(len(y_test)):\n",
        "    if y_test[i] == y_pred[i]:\n",
        "        print(f'Index {i}: True Label = {y_test[i]}, Predicted = {y_pred[i]}')\n",
        "\n",
        "print('\\nIncorrect Predictions:')\n",
        "for i in range(len(y_test)):\n",
        "    if y_test[i] != y_pred[i]:\n",
        "        print(f'Index {i}: True Label = {y_test[i]}, Predicted = {y_pred[i]}')\n"
      ]
    },
    {
      "cell_type": "code",
      "source": [],
      "metadata": {
        "id": "kIw9uW6WVPqm"
      },
      "execution_count": null,
      "outputs": []
    }
  ]
}