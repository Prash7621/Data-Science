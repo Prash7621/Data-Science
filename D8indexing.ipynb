{
  "nbformat": 4,
  "nbformat_minor": 0,
  "metadata": {
    "colab": {
      "provenance": [],
      "authorship_tag": "ABX9TyNZ+BoU+QrhKjlGXSsHamQs",
      "include_colab_link": true
    },
    "kernelspec": {
      "name": "python3",
      "display_name": "Python 3"
    },
    "language_info": {
      "name": "python"
    }
  },
  "cells": [
    {
      "cell_type": "markdown",
      "metadata": {
        "id": "view-in-github",
        "colab_type": "text"
      },
      "source": [
        "<a href=\"https://colab.research.google.com/github/Prash7621/Data-Science/blob/main/D8indexing.ipynb\" target=\"_parent\"><img src=\"https://colab.research.google.com/assets/colab-badge.svg\" alt=\"Open In Colab\"/></a>"
      ]
    },
    {
      "cell_type": "code",
      "execution_count": null,
      "metadata": {
        "colab": {
          "base_uri": "https://localhost:8080/"
        },
        "id": "RLhsfcyMGSVj",
        "outputId": "1dffebdf-dc9f-4b62-d713-53dad0307831"
      },
      "outputs": [
        {
          "output_type": "stream",
          "name": "stdout",
          "text": [
            "First element :  5\n",
            "Last element :  25\n",
            "Third element :  15\n"
          ]
        }
      ],
      "source": [
        "import numpy as np\n",
        "arr =np.array([5,10,15,20,25])\n",
        "first_element =arr[0]\n",
        "last_element = arr[-1]\n",
        "third_element =arr[2]\n",
        "print(\"First element : \" , first_element)\n",
        "print(\"Last element : \" , last_element)\n",
        "print(\"Third element : \" , third_element)"
      ]
    },
    {
      "cell_type": "code",
      "source": [
        "import numpy as np\n",
        "arr=np.array([5,10,15,20,25])\n",
        "\n",
        "print(arr[-2:])"
      ],
      "metadata": {
        "colab": {
          "base_uri": "https://localhost:8080/"
        },
        "id": "P2y1gDP9G_nP",
        "outputId": "1f191953-6bdd-4abc-8ef4-25a03bf22957"
      },
      "execution_count": null,
      "outputs": [
        {
          "output_type": "stream",
          "name": "stdout",
          "text": [
            "[20 25]\n"
          ]
        }
      ]
    },
    {
      "cell_type": "code",
      "source": [
        "import numpy as np\n",
        "matrix=np.array([[1,2,3],[4,5,6],[7,8,9]])\n",
        "element = matrix[1,2]\n",
        "first_row = matrix[0,:]\n",
        "last_column = matrix[:,-1]\n",
        "print(\"Element at row 2 , column 3 : \" , element)\n",
        "print(\"first row : \" , first_row)\n",
        "print(\"Last column : \" , last_column)"
      ],
      "metadata": {
        "colab": {
          "base_uri": "https://localhost:8080/"
        },
        "id": "rEkuQOJ9Jht2",
        "outputId": "0a319389-4c4e-43e7-d151-5b219339823d"
      },
      "execution_count": null,
      "outputs": [
        {
          "output_type": "stream",
          "name": "stdout",
          "text": [
            "Element at row 2 , column 3 :  6\n",
            "first row :  [1 2 3]\n",
            "Last column :  [3 6 9]\n"
          ]
        }
      ]
    }
  ]
}