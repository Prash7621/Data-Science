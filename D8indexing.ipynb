{
 "cells": [
  {
   "cell_type": "code",
   "execution_count": 4,
   "id": "fc44f942-a195-4bfb-8ae9-e1ce16f6972a",
   "metadata": {},
   "outputs": [
    {
     "name": "stdout",
     "output_type": "stream",
     "text": [
      "First element :  5\n",
      "Last element :  25\n",
      "Third element :  15\n"
     ]
    }
   ],
   "source": [
    "import numpy as np\n",
    "arr =np.array([5,10,15,20,25])\n",
    "first_element =arr[0]\n",
    "last_element = arr[-1]\n",
    "third_element =arr[2]\n",
    "print(\"First element : \" , first_element)\n",
    "print(\"Last element : \" , last_element)\n",
    "print(\"Third element : \" , third_element)"
   ]
  },
  {
   "cell_type": "code",
   "execution_count": 5,
   "id": "250a77e4-1514-495f-b701-8105474eb320",
   "metadata": {},
   "outputs": [
    {
     "name": "stdout",
     "output_type": "stream",
     "text": [
      "[20 25]\n"
     ]
    }
   ],
   "source": [
    "import numpy as np\n",
    "arr=np.array([5,10,15,20,25])\n",
    "\n",
    "print(arr[-2:])"
   ]
  },
  {
   "cell_type": "code",
   "execution_count": 6,
   "id": "0ad2c301-581d-434e-8fcb-a64da61e6041",
   "metadata": {},
   "outputs": [
    {
     "name": "stdout",
     "output_type": "stream",
     "text": [
      "Element at row 2 , column 3 :  6\n",
      "first row :  [1 2 3]\n",
      "Last column :  [3 6 9]\n"
     ]
    }
   ],
   "source": [
    "import numpy as np\n",
    "matrix=np.array([[1,2,3],[4,5,6],[7,8,9]])\n",
    "element = matrix[1,2]\n",
    "first_row = matrix[0,:]\n",
    "last_column = matrix[:,-1]\n",
    "print(\"Element at row 2 , column 3 : \" , element)\n",
    "print(\"first row : \" , first_row)\n",
    "print(\"Last column : \" , last_column)"
   ]
  },
  {
   "cell_type": "code",
   "execution_count": null,
   "id": "799610eb-c7e5-4f2b-8d92-55e68833a87b",
   "metadata": {},
   "outputs": [],
   "source": []
  }
 ],
 "metadata": {
  "kernelspec": {
   "display_name": "Python 3 (ipykernel)",
   "language": "python",
   "name": "python3"
  },
  "language_info": {
   "codemirror_mode": {
    "name": "ipython",
    "version": 3
   },
   "file_extension": ".py",
   "mimetype": "text/x-python",
   "name": "python",
   "nbconvert_exporter": "python",
   "pygments_lexer": "ipython3",
   "version": "3.11.0"
  }
 },
 "nbformat": 4,
 "nbformat_minor": 5
}
